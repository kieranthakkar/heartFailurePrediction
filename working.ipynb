{
 "cells": [
  {
   "cell_type": "markdown",
   "metadata": {},
   "source": [
    "# Heart Failure Prediction\n",
    "#### Using Kaggle data to create a model for predicting mortality caused by Heart Failure.\n",
    "Creating a neural network (ANN) and comparing it to baseline models (SVM, kNN, LogisticRegression, Naive-Baines)\n",
    "\n",
    "Performance metrics: accuracy, precision, recall, F1-score, ROC curve, AUC"
   ]
  },
  {
   "cell_type": "code",
   "execution_count": 157,
   "metadata": {},
   "outputs": [],
   "source": [
    "# import modules\n",
    "## standard modules\n",
    "import pandas as pd, numpy as np, matplotlib.pyplot as plt, seaborn as sns\n",
    "\n",
    "## pre-processing\n",
    "from sklearn.preprocessing import StandardScaler\n",
    "from sklearn.model_selection import train_test_split\n",
    "\n",
    "## modelling\n",
    "### baseline\n",
    "from sklearn.linear_model import LogisticRegression\n",
    "from sklearn.naive_bayes import GaussianNB\n",
    "from sklearn import svm\n",
    "from sklearn.neighbors import KNeighborsClassifier\n",
    "\n",
    "### artificial neural network (ANN)\n",
    "from keras.layers import Dense, Dropout\n",
    "from keras.models import Sequential\n",
    "\n",
    "## cross-validation\n",
    "from sklearn.model_selection import KFold\n",
    "\n",
    "## performance metrics\n",
    "from sklearn.metrics import accuracy_score, confusion_matrix, classification_report, roc_auc_score, roc_curve "
   ]
  },
  {
   "cell_type": "markdown",
   "metadata": {},
   "source": [
    "## Importing data and preprocessing\n",
    "\n",
    "Data split and scaling"
   ]
  },
  {
   "cell_type": "code",
   "execution_count": 158,
   "metadata": {},
   "outputs": [
    {
     "data": {
      "text/html": [
       "<div>\n",
       "<style scoped>\n",
       "    .dataframe tbody tr th:only-of-type {\n",
       "        vertical-align: middle;\n",
       "    }\n",
       "\n",
       "    .dataframe tbody tr th {\n",
       "        vertical-align: top;\n",
       "    }\n",
       "\n",
       "    .dataframe thead th {\n",
       "        text-align: right;\n",
       "    }\n",
       "</style>\n",
       "<table border=\"1\" class=\"dataframe\">\n",
       "  <thead>\n",
       "    <tr style=\"text-align: right;\">\n",
       "      <th></th>\n",
       "      <th>age</th>\n",
       "      <th>anaemia</th>\n",
       "      <th>creatinine_phosphokinase</th>\n",
       "      <th>diabetes</th>\n",
       "      <th>ejection_fraction</th>\n",
       "      <th>high_blood_pressure</th>\n",
       "      <th>platelets</th>\n",
       "      <th>serum_creatinine</th>\n",
       "      <th>serum_sodium</th>\n",
       "      <th>sex</th>\n",
       "      <th>smoking</th>\n",
       "      <th>time</th>\n",
       "      <th>DEATH_EVENT</th>\n",
       "    </tr>\n",
       "  </thead>\n",
       "  <tbody>\n",
       "    <tr>\n",
       "      <th>count</th>\n",
       "      <td>299.000000</td>\n",
       "      <td>299.000000</td>\n",
       "      <td>299.000000</td>\n",
       "      <td>299.00000</td>\n",
       "      <td>299.000000</td>\n",
       "      <td>299.000000</td>\n",
       "      <td>299.000000</td>\n",
       "      <td>299.00000</td>\n",
       "      <td>299.000000</td>\n",
       "      <td>299.000000</td>\n",
       "      <td>299.00000</td>\n",
       "      <td>299.00000</td>\n",
       "      <td>299.00000</td>\n",
       "    </tr>\n",
       "    <tr>\n",
       "      <th>mean</th>\n",
       "      <td>60.833893</td>\n",
       "      <td>0.431438</td>\n",
       "      <td>581.839465</td>\n",
       "      <td>0.41806</td>\n",
       "      <td>38.083612</td>\n",
       "      <td>0.351171</td>\n",
       "      <td>263358.029264</td>\n",
       "      <td>1.39388</td>\n",
       "      <td>136.625418</td>\n",
       "      <td>0.648829</td>\n",
       "      <td>0.32107</td>\n",
       "      <td>130.26087</td>\n",
       "      <td>0.32107</td>\n",
       "    </tr>\n",
       "    <tr>\n",
       "      <th>min</th>\n",
       "      <td>40.000000</td>\n",
       "      <td>0.000000</td>\n",
       "      <td>23.000000</td>\n",
       "      <td>0.00000</td>\n",
       "      <td>14.000000</td>\n",
       "      <td>0.000000</td>\n",
       "      <td>25100.000000</td>\n",
       "      <td>0.50000</td>\n",
       "      <td>113.000000</td>\n",
       "      <td>0.000000</td>\n",
       "      <td>0.00000</td>\n",
       "      <td>4.00000</td>\n",
       "      <td>0.00000</td>\n",
       "    </tr>\n",
       "    <tr>\n",
       "      <th>max</th>\n",
       "      <td>95.000000</td>\n",
       "      <td>1.000000</td>\n",
       "      <td>7861.000000</td>\n",
       "      <td>1.00000</td>\n",
       "      <td>80.000000</td>\n",
       "      <td>1.000000</td>\n",
       "      <td>850000.000000</td>\n",
       "      <td>9.40000</td>\n",
       "      <td>148.000000</td>\n",
       "      <td>1.000000</td>\n",
       "      <td>1.00000</td>\n",
       "      <td>285.00000</td>\n",
       "      <td>1.00000</td>\n",
       "    </tr>\n",
       "  </tbody>\n",
       "</table>\n",
       "</div>"
      ],
      "text/plain": [
       "              age     anaemia  creatinine_phosphokinase   diabetes  \\\n",
       "count  299.000000  299.000000                299.000000  299.00000   \n",
       "mean    60.833893    0.431438                581.839465    0.41806   \n",
       "min     40.000000    0.000000                 23.000000    0.00000   \n",
       "max     95.000000    1.000000               7861.000000    1.00000   \n",
       "\n",
       "       ejection_fraction  high_blood_pressure      platelets  \\\n",
       "count         299.000000           299.000000     299.000000   \n",
       "mean           38.083612             0.351171  263358.029264   \n",
       "min            14.000000             0.000000   25100.000000   \n",
       "max            80.000000             1.000000  850000.000000   \n",
       "\n",
       "       serum_creatinine  serum_sodium         sex    smoking       time  \\\n",
       "count         299.00000    299.000000  299.000000  299.00000  299.00000   \n",
       "mean            1.39388    136.625418    0.648829    0.32107  130.26087   \n",
       "min             0.50000    113.000000    0.000000    0.00000    4.00000   \n",
       "max             9.40000    148.000000    1.000000    1.00000  285.00000   \n",
       "\n",
       "       DEATH_EVENT  \n",
       "count    299.00000  \n",
       "mean       0.32107  \n",
       "min        0.00000  \n",
       "max        1.00000  "
      ]
     },
     "execution_count": 158,
     "metadata": {},
     "output_type": "execute_result"
    }
   ],
   "source": [
    "# import data\n",
    "df = pd.read_csv(\"heart_failure_clinical_records_dataset.csv\")\n",
    "described = df.describe().drop(axis=0, index=[\"std\",\"25%\",\"50%\",\"75%\"])\n",
    "described"
   ]
  },
  {
   "cell_type": "markdown",
   "metadata": {},
   "source": [
    "We can note the dataset has 12 features contributing to the DEATH_EVENT. No columns are dropped."
   ]
  },
  {
   "cell_type": "code",
   "execution_count": 188,
   "metadata": {},
   "outputs": [],
   "source": [
    "# pre-processing\n",
    "X = df.iloc[:,:-1].values\n",
    "y = df.DEATH_EVENT.values\n",
    "\n",
    "X_train, X_test, y_train, y_test = train_test_split(X, y, test_size=0.2, random_state=69)"
   ]
  },
  {
   "cell_type": "code",
   "execution_count": 160,
   "metadata": {},
   "outputs": [],
   "source": [
    "# scaling\n",
    "scaler = StandardScaler()\n",
    "X_train = scaler.fit_transform(X_train)\n",
    "X_test = scaler.transform(X_test)"
   ]
  },
  {
   "cell_type": "code",
   "execution_count": 161,
   "metadata": {},
   "outputs": [
    {
     "data": {
      "text/plain": [
       "0.3179916317991632"
      ]
     },
     "execution_count": 161,
     "metadata": {},
     "output_type": "execute_result"
    }
   ],
   "source": [
    "threshold = y_train.mean()\n",
    "threshold"
   ]
  },
  {
   "cell_type": "markdown",
   "metadata": {},
   "source": [
    "## Neural Network"
   ]
  },
  {
   "cell_type": "markdown",
   "metadata": {},
   "source": [
    "### Modelling"
   ]
  },
  {
   "cell_type": "code",
   "execution_count": 162,
   "metadata": {},
   "outputs": [],
   "source": [
    "# initialise\n",
    "ann = Sequential()\n",
    "\n",
    "# input layer\n",
    "ann.add(Dense(units=16, kernel_initializer=\"uniform\", activation=\"relu\", input_dim=12))\n",
    "\n",
    "# hidden layers w/ regularisation\n",
    "ann.add(Dense(units=8, kernel_initializer=\"uniform\", activation=\"relu\"))\n",
    "ann.add(Dropout(0.25))\n",
    "ann.add(Dense(units=8, kernel_initializer=\"uniform\", activation=\"relu\"))\n",
    "ann.add(Dropout(0.5))\n",
    "\n",
    "# output layer\n",
    "ann.add(Dense(units=1, kernel_initializer=\"uniform\", activation=\"sigmoid\")) # units = 1 because this is binary classification (0 or 1)\n"
   ]
  },
  {
   "cell_type": "code",
   "execution_count": 163,
   "metadata": {},
   "outputs": [],
   "source": [
    "# compile the network\n",
    "ann.compile(optimizer=\"adam\", loss=\"binary_crossentropy\", metrics=[\"accuracy\"])"
   ]
  },
  {
   "cell_type": "code",
   "execution_count": 164,
   "metadata": {},
   "outputs": [
    {
     "name": "stdout",
     "output_type": "stream",
     "text": [
      "Epoch 1/100\n",
      "6/6 [==============================] - 1s 37ms/step - loss: 0.6927 - accuracy: 0.6369 - val_loss: 0.6919 - val_accuracy: 0.7000\n",
      "Epoch 2/100\n",
      "6/6 [==============================] - 0s 10ms/step - loss: 0.6918 - accuracy: 0.6760 - val_loss: 0.6908 - val_accuracy: 0.7000\n",
      "Epoch 3/100\n",
      "6/6 [==============================] - 0s 9ms/step - loss: 0.6908 - accuracy: 0.6760 - val_loss: 0.6897 - val_accuracy: 0.7000\n",
      "Epoch 4/100\n",
      "6/6 [==============================] - 0s 9ms/step - loss: 0.6899 - accuracy: 0.6760 - val_loss: 0.6886 - val_accuracy: 0.7000\n",
      "Epoch 5/100\n",
      "6/6 [==============================] - 0s 9ms/step - loss: 0.6888 - accuracy: 0.6760 - val_loss: 0.6875 - val_accuracy: 0.7000\n",
      "Epoch 6/100\n",
      "6/6 [==============================] - 0s 10ms/step - loss: 0.6878 - accuracy: 0.6760 - val_loss: 0.6863 - val_accuracy: 0.7000\n",
      "Epoch 7/100\n",
      "6/6 [==============================] - 0s 11ms/step - loss: 0.6866 - accuracy: 0.6760 - val_loss: 0.6849 - val_accuracy: 0.7000\n",
      "Epoch 8/100\n",
      "6/6 [==============================] - 0s 8ms/step - loss: 0.6852 - accuracy: 0.6760 - val_loss: 0.6834 - val_accuracy: 0.7000\n",
      "Epoch 9/100\n",
      "6/6 [==============================] - 0s 8ms/step - loss: 0.6832 - accuracy: 0.6760 - val_loss: 0.6817 - val_accuracy: 0.7000\n",
      "Epoch 10/100\n",
      "6/6 [==============================] - 0s 8ms/step - loss: 0.6820 - accuracy: 0.6760 - val_loss: 0.6797 - val_accuracy: 0.7000\n",
      "Epoch 11/100\n",
      "6/6 [==============================] - 0s 8ms/step - loss: 0.6806 - accuracy: 0.6760 - val_loss: 0.6774 - val_accuracy: 0.7000\n",
      "Epoch 12/100\n",
      "6/6 [==============================] - 0s 8ms/step - loss: 0.6788 - accuracy: 0.6760 - val_loss: 0.6748 - val_accuracy: 0.7000\n",
      "Epoch 13/100\n",
      "6/6 [==============================] - 0s 9ms/step - loss: 0.6739 - accuracy: 0.6760 - val_loss: 0.6716 - val_accuracy: 0.7000\n",
      "Epoch 14/100\n",
      "6/6 [==============================] - 0s 9ms/step - loss: 0.6732 - accuracy: 0.6760 - val_loss: 0.6677 - val_accuracy: 0.7000\n",
      "Epoch 15/100\n",
      "6/6 [==============================] - 0s 9ms/step - loss: 0.6694 - accuracy: 0.6760 - val_loss: 0.6629 - val_accuracy: 0.7000\n",
      "Epoch 16/100\n",
      "6/6 [==============================] - 0s 9ms/step - loss: 0.6622 - accuracy: 0.6760 - val_loss: 0.6569 - val_accuracy: 0.7000\n",
      "Epoch 17/100\n",
      "6/6 [==============================] - 0s 9ms/step - loss: 0.6531 - accuracy: 0.6760 - val_loss: 0.6494 - val_accuracy: 0.7000\n",
      "Epoch 18/100\n",
      "6/6 [==============================] - 0s 9ms/step - loss: 0.6496 - accuracy: 0.6760 - val_loss: 0.6408 - val_accuracy: 0.7000\n",
      "Epoch 19/100\n",
      "6/6 [==============================] - 0s 9ms/step - loss: 0.6381 - accuracy: 0.6760 - val_loss: 0.6306 - val_accuracy: 0.7000\n",
      "Epoch 20/100\n",
      "6/6 [==============================] - 0s 9ms/step - loss: 0.6227 - accuracy: 0.6760 - val_loss: 0.6186 - val_accuracy: 0.7000\n",
      "Epoch 21/100\n",
      "6/6 [==============================] - 0s 8ms/step - loss: 0.6153 - accuracy: 0.6760 - val_loss: 0.6042 - val_accuracy: 0.7000\n",
      "Epoch 22/100\n",
      "6/6 [==============================] - 0s 9ms/step - loss: 0.6012 - accuracy: 0.6760 - val_loss: 0.5883 - val_accuracy: 0.7000\n",
      "Epoch 23/100\n",
      "6/6 [==============================] - 0s 9ms/step - loss: 0.5806 - accuracy: 0.6760 - val_loss: 0.5711 - val_accuracy: 0.7000\n",
      "Epoch 24/100\n",
      "6/6 [==============================] - 0s 8ms/step - loss: 0.5685 - accuracy: 0.6760 - val_loss: 0.5531 - val_accuracy: 0.7000\n",
      "Epoch 25/100\n",
      "6/6 [==============================] - 0s 8ms/step - loss: 0.5322 - accuracy: 0.6760 - val_loss: 0.5346 - val_accuracy: 0.7000\n",
      "Epoch 26/100\n",
      "6/6 [==============================] - 0s 8ms/step - loss: 0.5353 - accuracy: 0.6760 - val_loss: 0.5181 - val_accuracy: 0.7000\n",
      "Epoch 27/100\n",
      "6/6 [==============================] - 0s 9ms/step - loss: 0.5055 - accuracy: 0.6816 - val_loss: 0.5029 - val_accuracy: 0.7000\n",
      "Epoch 28/100\n",
      "6/6 [==============================] - 0s 9ms/step - loss: 0.5116 - accuracy: 0.6872 - val_loss: 0.4899 - val_accuracy: 0.7167\n",
      "Epoch 29/100\n",
      "6/6 [==============================] - 0s 8ms/step - loss: 0.5080 - accuracy: 0.7207 - val_loss: 0.4802 - val_accuracy: 0.7333\n",
      "Epoch 30/100\n",
      "6/6 [==============================] - 0s 8ms/step - loss: 0.4892 - accuracy: 0.7095 - val_loss: 0.4720 - val_accuracy: 0.7333\n",
      "Epoch 31/100\n",
      "6/6 [==============================] - 0s 9ms/step - loss: 0.4819 - accuracy: 0.7486 - val_loss: 0.4653 - val_accuracy: 0.7500\n",
      "Epoch 32/100\n",
      "6/6 [==============================] - 0s 8ms/step - loss: 0.4698 - accuracy: 0.7933 - val_loss: 0.4594 - val_accuracy: 0.7833\n",
      "Epoch 33/100\n",
      "6/6 [==============================] - 0s 9ms/step - loss: 0.4757 - accuracy: 0.7821 - val_loss: 0.4545 - val_accuracy: 0.8000\n",
      "Epoch 34/100\n",
      "6/6 [==============================] - 0s 8ms/step - loss: 0.4456 - accuracy: 0.7989 - val_loss: 0.4502 - val_accuracy: 0.8000\n",
      "Epoch 35/100\n",
      "6/6 [==============================] - 0s 8ms/step - loss: 0.4611 - accuracy: 0.8156 - val_loss: 0.4467 - val_accuracy: 0.8000\n",
      "Epoch 36/100\n",
      "6/6 [==============================] - 0s 8ms/step - loss: 0.4314 - accuracy: 0.8268 - val_loss: 0.4449 - val_accuracy: 0.7833\n",
      "Epoch 37/100\n",
      "6/6 [==============================] - 0s 10ms/step - loss: 0.4701 - accuracy: 0.8212 - val_loss: 0.4423 - val_accuracy: 0.7667\n",
      "Epoch 38/100\n",
      "6/6 [==============================] - 0s 9ms/step - loss: 0.4224 - accuracy: 0.8268 - val_loss: 0.4392 - val_accuracy: 0.7833\n",
      "Epoch 39/100\n",
      "6/6 [==============================] - 0s 9ms/step - loss: 0.4140 - accuracy: 0.8436 - val_loss: 0.4377 - val_accuracy: 0.7833\n",
      "Epoch 40/100\n",
      "6/6 [==============================] - 0s 9ms/step - loss: 0.4197 - accuracy: 0.8212 - val_loss: 0.4363 - val_accuracy: 0.7833\n",
      "Epoch 41/100\n",
      "6/6 [==============================] - 0s 8ms/step - loss: 0.4330 - accuracy: 0.8324 - val_loss: 0.4365 - val_accuracy: 0.7833\n",
      "Epoch 42/100\n",
      "6/6 [==============================] - 0s 8ms/step - loss: 0.4181 - accuracy: 0.8436 - val_loss: 0.4364 - val_accuracy: 0.7833\n",
      "Epoch 43/100\n",
      "6/6 [==============================] - 0s 8ms/step - loss: 0.4209 - accuracy: 0.8212 - val_loss: 0.4369 - val_accuracy: 0.7833\n",
      "Epoch 44/100\n",
      "6/6 [==============================] - 0s 9ms/step - loss: 0.4431 - accuracy: 0.8268 - val_loss: 0.4383 - val_accuracy: 0.7833\n",
      "Epoch 45/100\n",
      "6/6 [==============================] - 0s 9ms/step - loss: 0.3959 - accuracy: 0.8324 - val_loss: 0.4400 - val_accuracy: 0.8000\n",
      "Epoch 46/100\n",
      "6/6 [==============================] - 0s 9ms/step - loss: 0.4041 - accuracy: 0.8380 - val_loss: 0.4419 - val_accuracy: 0.8000\n",
      "Epoch 47/100\n",
      "6/6 [==============================] - 0s 9ms/step - loss: 0.4044 - accuracy: 0.8324 - val_loss: 0.4440 - val_accuracy: 0.8000\n",
      "Epoch 48/100\n",
      "6/6 [==============================] - 0s 8ms/step - loss: 0.4092 - accuracy: 0.8492 - val_loss: 0.4449 - val_accuracy: 0.7833\n",
      "Epoch 49/100\n",
      "6/6 [==============================] - 0s 8ms/step - loss: 0.4091 - accuracy: 0.8380 - val_loss: 0.4474 - val_accuracy: 0.7833\n",
      "Epoch 50/100\n",
      "6/6 [==============================] - 0s 9ms/step - loss: 0.4147 - accuracy: 0.8492 - val_loss: 0.4493 - val_accuracy: 0.7833\n",
      "Epoch 51/100\n",
      "6/6 [==============================] - 0s 9ms/step - loss: 0.3750 - accuracy: 0.8659 - val_loss: 0.4515 - val_accuracy: 0.7667\n",
      "Epoch 52/100\n",
      "6/6 [==============================] - 0s 9ms/step - loss: 0.3878 - accuracy: 0.8492 - val_loss: 0.4521 - val_accuracy: 0.7667\n",
      "Epoch 53/100\n",
      "6/6 [==============================] - 0s 16ms/step - loss: 0.3722 - accuracy: 0.8715 - val_loss: 0.4532 - val_accuracy: 0.7833\n",
      "Epoch 54/100\n",
      "6/6 [==============================] - 0s 9ms/step - loss: 0.3836 - accuracy: 0.8492 - val_loss: 0.4548 - val_accuracy: 0.7667\n",
      "Epoch 55/100\n",
      "6/6 [==============================] - 0s 8ms/step - loss: 0.4320 - accuracy: 0.8492 - val_loss: 0.4560 - val_accuracy: 0.7667\n",
      "Epoch 56/100\n",
      "6/6 [==============================] - 0s 8ms/step - loss: 0.3771 - accuracy: 0.8380 - val_loss: 0.4555 - val_accuracy: 0.7667\n",
      "Epoch 57/100\n",
      "6/6 [==============================] - 0s 8ms/step - loss: 0.4009 - accuracy: 0.8603 - val_loss: 0.4563 - val_accuracy: 0.7667\n",
      "Epoch 58/100\n",
      "6/6 [==============================] - 0s 8ms/step - loss: 0.3972 - accuracy: 0.8771 - val_loss: 0.4566 - val_accuracy: 0.7667\n",
      "Epoch 59/100\n",
      "6/6 [==============================] - 0s 11ms/step - loss: 0.3908 - accuracy: 0.8436 - val_loss: 0.4591 - val_accuracy: 0.7667\n",
      "Epoch 60/100\n",
      "6/6 [==============================] - 0s 11ms/step - loss: 0.3712 - accuracy: 0.8659 - val_loss: 0.4624 - val_accuracy: 0.7500\n",
      "Epoch 61/100\n",
      "6/6 [==============================] - 0s 11ms/step - loss: 0.4123 - accuracy: 0.8492 - val_loss: 0.4628 - val_accuracy: 0.7667\n",
      "Epoch 62/100\n",
      "6/6 [==============================] - 0s 9ms/step - loss: 0.4110 - accuracy: 0.8547 - val_loss: 0.4621 - val_accuracy: 0.7500\n",
      "Epoch 63/100\n",
      "6/6 [==============================] - 0s 8ms/step - loss: 0.3646 - accuracy: 0.8715 - val_loss: 0.4625 - val_accuracy: 0.7500\n",
      "Epoch 64/100\n",
      "6/6 [==============================] - 0s 9ms/step - loss: 0.3933 - accuracy: 0.8659 - val_loss: 0.4629 - val_accuracy: 0.7667\n",
      "Epoch 65/100\n",
      "6/6 [==============================] - 0s 9ms/step - loss: 0.3905 - accuracy: 0.8659 - val_loss: 0.4659 - val_accuracy: 0.7667\n",
      "Epoch 66/100\n",
      "6/6 [==============================] - 0s 9ms/step - loss: 0.4504 - accuracy: 0.8492 - val_loss: 0.4677 - val_accuracy: 0.7667\n",
      "Epoch 67/100\n",
      "6/6 [==============================] - 0s 8ms/step - loss: 0.3797 - accuracy: 0.8659 - val_loss: 0.4668 - val_accuracy: 0.7667\n",
      "Epoch 68/100\n",
      "6/6 [==============================] - 0s 8ms/step - loss: 0.3555 - accuracy: 0.8603 - val_loss: 0.4672 - val_accuracy: 0.7667\n",
      "Epoch 69/100\n",
      "6/6 [==============================] - 0s 9ms/step - loss: 0.3618 - accuracy: 0.8771 - val_loss: 0.4683 - val_accuracy: 0.7667\n",
      "Epoch 70/100\n",
      "6/6 [==============================] - 0s 9ms/step - loss: 0.3994 - accuracy: 0.8603 - val_loss: 0.4684 - val_accuracy: 0.7500\n",
      "Epoch 71/100\n",
      "6/6 [==============================] - 0s 9ms/step - loss: 0.3976 - accuracy: 0.8436 - val_loss: 0.4669 - val_accuracy: 0.7500\n",
      "Epoch 72/100\n",
      "6/6 [==============================] - 0s 8ms/step - loss: 0.3888 - accuracy: 0.8659 - val_loss: 0.4636 - val_accuracy: 0.7500\n",
      "Epoch 73/100\n",
      "6/6 [==============================] - 0s 8ms/step - loss: 0.3656 - accuracy: 0.8380 - val_loss: 0.4620 - val_accuracy: 0.7500\n",
      "Epoch 74/100\n",
      "6/6 [==============================] - 0s 9ms/step - loss: 0.3966 - accuracy: 0.8659 - val_loss: 0.4610 - val_accuracy: 0.7333\n",
      "Epoch 75/100\n",
      "6/6 [==============================] - 0s 16ms/step - loss: 0.3851 - accuracy: 0.8380 - val_loss: 0.4626 - val_accuracy: 0.7333\n",
      "Epoch 76/100\n",
      "6/6 [==============================] - 0s 9ms/step - loss: 0.3848 - accuracy: 0.8659 - val_loss: 0.4628 - val_accuracy: 0.7333\n",
      "Epoch 77/100\n",
      "6/6 [==============================] - 0s 9ms/step - loss: 0.3730 - accuracy: 0.8603 - val_loss: 0.4647 - val_accuracy: 0.7500\n",
      "Epoch 78/100\n",
      "6/6 [==============================] - 0s 9ms/step - loss: 0.3644 - accuracy: 0.8547 - val_loss: 0.4661 - val_accuracy: 0.7500\n",
      "Epoch 79/100\n",
      "6/6 [==============================] - 0s 9ms/step - loss: 0.4185 - accuracy: 0.8603 - val_loss: 0.4666 - val_accuracy: 0.7500\n",
      "Epoch 80/100\n",
      "6/6 [==============================] - 0s 9ms/step - loss: 0.3640 - accuracy: 0.8603 - val_loss: 0.4668 - val_accuracy: 0.7500\n",
      "Epoch 81/100\n",
      "6/6 [==============================] - 0s 9ms/step - loss: 0.3751 - accuracy: 0.8547 - val_loss: 0.4678 - val_accuracy: 0.7500\n",
      "Epoch 82/100\n",
      "6/6 [==============================] - 0s 9ms/step - loss: 0.3712 - accuracy: 0.8547 - val_loss: 0.4698 - val_accuracy: 0.7500\n",
      "Epoch 83/100\n",
      "6/6 [==============================] - 0s 9ms/step - loss: 0.3522 - accuracy: 0.8715 - val_loss: 0.4725 - val_accuracy: 0.7500\n",
      "Epoch 84/100\n",
      "6/6 [==============================] - 0s 9ms/step - loss: 0.3726 - accuracy: 0.8715 - val_loss: 0.4747 - val_accuracy: 0.7500\n",
      "Epoch 85/100\n",
      "6/6 [==============================] - 0s 9ms/step - loss: 0.3565 - accuracy: 0.8603 - val_loss: 0.4755 - val_accuracy: 0.7500\n",
      "Epoch 86/100\n",
      "6/6 [==============================] - 0s 10ms/step - loss: 0.3637 - accuracy: 0.8883 - val_loss: 0.4743 - val_accuracy: 0.7500\n",
      "Epoch 87/100\n",
      "6/6 [==============================] - 0s 10ms/step - loss: 0.3638 - accuracy: 0.8492 - val_loss: 0.4730 - val_accuracy: 0.7500\n",
      "Epoch 88/100\n",
      "6/6 [==============================] - 0s 9ms/step - loss: 0.4005 - accuracy: 0.8380 - val_loss: 0.4746 - val_accuracy: 0.7500\n",
      "Epoch 89/100\n",
      "6/6 [==============================] - 0s 9ms/step - loss: 0.3821 - accuracy: 0.8603 - val_loss: 0.4758 - val_accuracy: 0.7500\n",
      "Epoch 90/100\n",
      "6/6 [==============================] - 0s 9ms/step - loss: 0.3802 - accuracy: 0.8436 - val_loss: 0.4739 - val_accuracy: 0.7500\n",
      "Epoch 91/100\n",
      "6/6 [==============================] - 0s 9ms/step - loss: 0.3650 - accuracy: 0.8603 - val_loss: 0.4745 - val_accuracy: 0.7500\n",
      "Epoch 92/100\n",
      "6/6 [==============================] - 0s 9ms/step - loss: 0.3226 - accuracy: 0.8771 - val_loss: 0.4776 - val_accuracy: 0.7500\n",
      "Epoch 93/100\n",
      "6/6 [==============================] - 0s 9ms/step - loss: 0.3479 - accuracy: 0.8715 - val_loss: 0.4807 - val_accuracy: 0.7500\n",
      "Epoch 94/100\n",
      "6/6 [==============================] - 0s 9ms/step - loss: 0.3380 - accuracy: 0.8659 - val_loss: 0.4818 - val_accuracy: 0.7500\n",
      "Epoch 95/100\n",
      "6/6 [==============================] - 0s 9ms/step - loss: 0.3221 - accuracy: 0.8715 - val_loss: 0.4820 - val_accuracy: 0.7500\n",
      "Epoch 96/100\n",
      "6/6 [==============================] - 0s 9ms/step - loss: 0.3735 - accuracy: 0.8547 - val_loss: 0.4808 - val_accuracy: 0.7500\n",
      "Epoch 97/100\n",
      "6/6 [==============================] - 0s 9ms/step - loss: 0.3868 - accuracy: 0.8268 - val_loss: 0.4813 - val_accuracy: 0.7500\n",
      "Epoch 98/100\n",
      "6/6 [==============================] - 0s 9ms/step - loss: 0.3187 - accuracy: 0.8827 - val_loss: 0.4853 - val_accuracy: 0.7500\n",
      "Epoch 99/100\n",
      "6/6 [==============================] - 0s 8ms/step - loss: 0.3644 - accuracy: 0.8603 - val_loss: 0.4901 - val_accuracy: 0.7500\n",
      "Epoch 100/100\n",
      "6/6 [==============================] - 0s 8ms/step - loss: 0.3271 - accuracy: 0.8603 - val_loss: 0.4943 - val_accuracy: 0.7500\n"
     ]
    }
   ],
   "source": [
    "# train the ANN\n",
    "history = ann.fit(X_train, y_train, batch_size=32, epochs=100, validation_split=0.25)"
   ]
  },
  {
   "cell_type": "code",
   "execution_count": 165,
   "metadata": {},
   "outputs": [
    {
     "name": "stdout",
     "output_type": "stream",
     "text": [
      "\n",
      "validation_accuracy is: 74.53%\n"
     ]
    }
   ],
   "source": [
    "val_accuracy = np.mean(history.history['val_accuracy'])\n",
    "print(\"\\n%s: %.2f%%\" % ('validation_accuracy is', val_accuracy*100))"
   ]
  },
  {
   "cell_type": "code",
   "execution_count": 166,
   "metadata": {},
   "outputs": [
    {
     "name": "stdout",
     "output_type": "stream",
     "text": [
      "INFO:tensorflow:Assets written to: ann_model\\assets\n"
     ]
    },
    {
     "name": "stderr",
     "output_type": "stream",
     "text": [
      "INFO:tensorflow:Assets written to: ann_model\\assets\n"
     ]
    }
   ],
   "source": [
    "# save model\n",
    "ann.save(\"ann_model\")"
   ]
  },
  {
   "cell_type": "code",
   "execution_count": 167,
   "metadata": {},
   "outputs": [
    {
     "name": "stdout",
     "output_type": "stream",
     "text": [
      "2/2 [==============================] - 0s 5ms/step\n"
     ]
    }
   ],
   "source": [
    "# predictions\n",
    "ann_pred = ann.predict(X_test)\n",
    "ann_pred = np.where(ann_pred>threshold, 1, 0)"
   ]
  },
  {
   "cell_type": "markdown",
   "metadata": {},
   "source": [
    "### Performance"
   ]
  },
  {
   "cell_type": "code",
   "execution_count": 168,
   "metadata": {},
   "outputs": [
    {
     "data": {
      "text/plain": [
       "<Axes: >"
      ]
     },
     "execution_count": 168,
     "metadata": {},
     "output_type": "execute_result"
    },
    {
     "data": {
      "image/png": "[encoded data removed]",
      "text/plain": [
       "<Figure size 600x500 with 2 Axes>"
      ]
     },
     "metadata": {},
     "output_type": "display_data"
    }
   ],
   "source": [
    "# Getting the confusion matrix\n",
    "plt.subplots(figsize=(6,5))\n",
    "cf_matrix = confusion_matrix(y_test, ann_pred)\n",
    "sns.heatmap(cf_matrix, annot = True, annot_kws = {'size':25}, square=True)"
   ]
  },
  {
   "cell_type": "code",
   "execution_count": 169,
   "metadata": {},
   "outputs": [
    {
     "name": "stdout",
     "output_type": "stream",
     "text": [
      "              precision    recall  f1-score   support\n",
      "\n",
      "           0       0.92      0.85      0.88        40\n",
      "           1       0.74      0.85      0.79        20\n",
      "\n",
      "    accuracy                           0.85        60\n",
      "   macro avg       0.83      0.85      0.84        60\n",
      "weighted avg       0.86      0.85      0.85        60\n",
      "\n"
     ]
    }
   ],
   "source": [
    "print(classification_report(y_test,ann_pred))"
   ]
  },
  {
   "cell_type": "markdown",
   "metadata": {},
   "source": [
    "## Baseline"
   ]
  },
  {
   "cell_type": "markdown",
   "metadata": {},
   "source": [
    "### Logistic Regression"
   ]
  },
  {
   "cell_type": "code",
   "execution_count": 184,
   "metadata": {},
   "outputs": [
    {
     "data": {
      "image/png": "[encoded data removed]",
      "text/plain": [
       "<Figure size 600x500 with 2 Axes>"
      ]
     },
     "metadata": {},
     "output_type": "display_data"
    },
    {
     "name": "stdout",
     "output_type": "stream",
     "text": [
      "              precision    recall  f1-score   support\n",
      "\n",
      "           0       0.88      0.90      0.89        40\n",
      "           1       0.79      0.75      0.77        20\n",
      "\n",
      "    accuracy                           0.85        60\n",
      "   macro avg       0.83      0.82      0.83        60\n",
      "weighted avg       0.85      0.85      0.85        60\n",
      "\n"
     ]
    }
   ],
   "source": [
    "LR = LogisticRegression()\n",
    "LR.fit(X_train, y_train)\n",
    "LR_pred = LR.predict(X_test)\n",
    "\n",
    "plt.subplots(figsize=(6,5))\n",
    "cf_matrix = confusion_matrix(y_test, LR_pred)\n",
    "sns.heatmap(cf_matrix, annot = True, annot_kws = {'size':25}, square=True)\n",
    "plt.title(\"Logistic Regression Confusion Matrix\")\n",
    "plt.show()\n",
    "\n",
    "print(classification_report(y_test,LR_pred))"
   ]
  },
  {
   "cell_type": "markdown",
   "metadata": {},
   "source": [
    "### kNN"
   ]
  },
  {
   "cell_type": "code",
   "execution_count": 182,
   "metadata": {},
   "outputs": [
    {
     "data": {
      "image/png": "[encoded data removed]",
      "text/plain": [
       "<Figure size 600x500 with 2 Axes>"
      ]
     },
     "metadata": {},
     "output_type": "display_data"
    },
    {
     "name": "stdout",
     "output_type": "stream",
     "text": [
      "              precision    recall  f1-score   support\n",
      "\n",
      "           0       0.70      0.88      0.78        40\n",
      "           1       0.50      0.25      0.33        20\n",
      "\n",
      "    accuracy                           0.67        60\n",
      "   macro avg       0.60      0.56      0.56        60\n",
      "weighted avg       0.63      0.67      0.63        60\n",
      "\n"
     ]
    }
   ],
   "source": [
    "kNN = KNeighborsClassifier()\n",
    "kNN.fit(X_train, y_train)\n",
    "kNN_pred = kNN.predict(X_test)\n",
    "\n",
    "plt.subplots(figsize=(6,5))\n",
    "cf_matrix = confusion_matrix(y_test, kNN_pred)\n",
    "sns.heatmap(cf_matrix, annot = True, annot_kws = {'size':25}, square=True)\n",
    "plt.title(\"kNN Confusion Matrix\")\n",
    "plt.show()\n",
    "\n",
    "print(classification_report(y_test,kNN_pred))"
   ]
  },
  {
   "cell_type": "markdown",
   "metadata": {},
   "source": [
    "### Naive-Baines"
   ]
  },
  {
   "cell_type": "code",
   "execution_count": 187,
   "metadata": {},
   "outputs": [
    {
     "data": {
      "image/png": "[encoded data removed]",
      "text/plain": [
       "<Figure size 600x500 with 2 Axes>"
      ]
     },
     "metadata": {},
     "output_type": "display_data"
    },
    {
     "name": "stdout",
     "output_type": "stream",
     "text": [
      "              precision    recall  f1-score   support\n",
      "\n",
      "           0       0.84      0.95      0.89        40\n",
      "           1       0.87      0.65      0.74        20\n",
      "\n",
      "    accuracy                           0.85        60\n",
      "   macro avg       0.86      0.80      0.82        60\n",
      "weighted avg       0.85      0.85      0.84        60\n",
      "\n"
     ]
    }
   ],
   "source": [
    "NB = GaussianNB()\n",
    "NB.fit(X_train, y_train)\n",
    "NB_pred = NB.predict(X_test)\n",
    "\n",
    "plt.subplots(figsize=(6,5))\n",
    "cf_matrix = confusion_matrix(y_test, NB_pred)\n",
    "sns.heatmap(cf_matrix, annot = True, annot_kws = {'size':25}, square=True)\n",
    "plt.title(\"Naive-Baines Confusion Matrix\")\n",
    "plt.show()\n",
    "\n",
    "print(classification_report(y_test,NB_pred))"
   ]
  }
 ],
 "metadata": {
  "kernelspec": {
   "display_name": "Python 3",
   "language": "python",
   "name": "python3"
  },
  "language_info": {
   "codemirror_mode": {
    "name": "ipython",
    "version": 3
   },
   "file_extension": ".py",
   "mimetype": "text/x-python",
   "name": "python",
   "nbconvert_exporter": "python",
   "pygments_lexer": "ipython3",
   "version": "3.11.6"
  },
  "orig_nbformat": 4
 },
 "nbformat": 4,
 "nbformat_minor": 2
}
