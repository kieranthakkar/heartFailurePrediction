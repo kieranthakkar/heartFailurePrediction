{
 "cells": [
  {
   "cell_type": "markdown",
   "metadata": {},
   "source": [
    "# Heart Failure Prediction\n",
    "#### Using Kaggle data to create a model for predicting mortality caused by Heart Failure.\n",
    "Creating a neural network (ANN) and comparing it to baseline models (SVM, kNN, LogisticRegression)\n",
    "\n",
    "Performance metrics: accuracy, precision, recall, F1-score, ROC curve, AUC"
   ]
  },
  {
   "cell_type": "code",
   "execution_count": 4,
   "metadata": {},
   "outputs": [],
   "source": [
    "# import modules\n",
    "## standard modules\n",
    "import pandas as pd, numpy as np, matplotlib.pyplot as plt, seaborn as sns\n",
    "\n",
    "## pre-processing\n",
    "from sklearn.preprocessing import StandardScaler\n",
    "from sklearn.model_selection import train_test_split\n",
    "\n",
    "## modelling\n",
    "### baseline\n",
    "from sklearn.linear_model import LogisticRegression, Lasso\n",
    "from sklearn.naive_bayes import GaussianNB\n",
    "from sklearn import svm\n",
    "from sklearn.neighbors import KNeighborsClassifier\n",
    "\n",
    "### artificial neural network (ANN)\n",
    "import tensorflow as tf\n",
    "from keras.layers import Dense, Dropout\n",
    "from keras.models import Sequential\n",
    "\n",
    "## cross-validation\n",
    "from sklearn.model_selection import KFold\n",
    "\n",
    "## performance metrics\n",
    "from sklearn.metrics import accuracy_score, confusion_matrix, classification_report, roc_auc_score, roc_curve "
   ]
  },
  {
   "cell_type": "markdown",
   "metadata": {},
   "source": [
    "## Importing data and preprocessing\n",
    "\n",
    "Data split and scaling"
   ]
  },
  {
   "cell_type": "code",
   "execution_count": 86,
   "metadata": {},
   "outputs": [
    {
     "data": {
      "text/html": [
       "<div>\n",
       "<style scoped>\n",
       "    .dataframe tbody tr th:only-of-type {\n",
       "        vertical-align: middle;\n",
       "    }\n",
       "\n",
       "    .dataframe tbody tr th {\n",
       "        vertical-align: top;\n",
       "    }\n",
       "\n",
       "    .dataframe thead th {\n",
       "        text-align: right;\n",
       "    }\n",
       "</style>\n",
       "<table border=\"1\" class=\"dataframe\">\n",
       "  <thead>\n",
       "    <tr style=\"text-align: right;\">\n",
       "      <th></th>\n",
       "      <th>age</th>\n",
       "      <th>anaemia</th>\n",
       "      <th>creatinine_phosphokinase</th>\n",
       "      <th>diabetes</th>\n",
       "      <th>ejection_fraction</th>\n",
       "      <th>high_blood_pressure</th>\n",
       "      <th>platelets</th>\n",
       "      <th>serum_creatinine</th>\n",
       "      <th>serum_sodium</th>\n",
       "      <th>sex</th>\n",
       "      <th>smoking</th>\n",
       "      <th>time</th>\n",
       "      <th>DEATH_EVENT</th>\n",
       "    </tr>\n",
       "  </thead>\n",
       "  <tbody>\n",
       "    <tr>\n",
       "      <th>count</th>\n",
       "      <td>299.000000</td>\n",
       "      <td>299.000000</td>\n",
       "      <td>299.000000</td>\n",
       "      <td>299.00000</td>\n",
       "      <td>299.000000</td>\n",
       "      <td>299.000000</td>\n",
       "      <td>299.000000</td>\n",
       "      <td>299.00000</td>\n",
       "      <td>299.000000</td>\n",
       "      <td>299.000000</td>\n",
       "      <td>299.00000</td>\n",
       "      <td>299.00000</td>\n",
       "      <td>299.00000</td>\n",
       "    </tr>\n",
       "    <tr>\n",
       "      <th>mean</th>\n",
       "      <td>60.833893</td>\n",
       "      <td>0.431438</td>\n",
       "      <td>581.839465</td>\n",
       "      <td>0.41806</td>\n",
       "      <td>38.083612</td>\n",
       "      <td>0.351171</td>\n",
       "      <td>263358.029264</td>\n",
       "      <td>1.39388</td>\n",
       "      <td>136.625418</td>\n",
       "      <td>0.648829</td>\n",
       "      <td>0.32107</td>\n",
       "      <td>130.26087</td>\n",
       "      <td>0.32107</td>\n",
       "    </tr>\n",
       "    <tr>\n",
       "      <th>min</th>\n",
       "      <td>40.000000</td>\n",
       "      <td>0.000000</td>\n",
       "      <td>23.000000</td>\n",
       "      <td>0.00000</td>\n",
       "      <td>14.000000</td>\n",
       "      <td>0.000000</td>\n",
       "      <td>25100.000000</td>\n",
       "      <td>0.50000</td>\n",
       "      <td>113.000000</td>\n",
       "      <td>0.000000</td>\n",
       "      <td>0.00000</td>\n",
       "      <td>4.00000</td>\n",
       "      <td>0.00000</td>\n",
       "    </tr>\n",
       "    <tr>\n",
       "      <th>max</th>\n",
       "      <td>95.000000</td>\n",
       "      <td>1.000000</td>\n",
       "      <td>7861.000000</td>\n",
       "      <td>1.00000</td>\n",
       "      <td>80.000000</td>\n",
       "      <td>1.000000</td>\n",
       "      <td>850000.000000</td>\n",
       "      <td>9.40000</td>\n",
       "      <td>148.000000</td>\n",
       "      <td>1.000000</td>\n",
       "      <td>1.00000</td>\n",
       "      <td>285.00000</td>\n",
       "      <td>1.00000</td>\n",
       "    </tr>\n",
       "  </tbody>\n",
       "</table>\n",
       "</div>"
      ],
      "text/plain": [
       "              age     anaemia  creatinine_phosphokinase   diabetes  \\\n",
       "count  299.000000  299.000000                299.000000  299.00000   \n",
       "mean    60.833893    0.431438                581.839465    0.41806   \n",
       "min     40.000000    0.000000                 23.000000    0.00000   \n",
       "max     95.000000    1.000000               7861.000000    1.00000   \n",
       "\n",
       "       ejection_fraction  high_blood_pressure      platelets  \\\n",
       "count         299.000000           299.000000     299.000000   \n",
       "mean           38.083612             0.351171  263358.029264   \n",
       "min            14.000000             0.000000   25100.000000   \n",
       "max            80.000000             1.000000  850000.000000   \n",
       "\n",
       "       serum_creatinine  serum_sodium         sex    smoking       time  \\\n",
       "count         299.00000    299.000000  299.000000  299.00000  299.00000   \n",
       "mean            1.39388    136.625418    0.648829    0.32107  130.26087   \n",
       "min             0.50000    113.000000    0.000000    0.00000    4.00000   \n",
       "max             9.40000    148.000000    1.000000    1.00000  285.00000   \n",
       "\n",
       "       DEATH_EVENT  \n",
       "count    299.00000  \n",
       "mean       0.32107  \n",
       "min        0.00000  \n",
       "max        1.00000  "
      ]
     },
     "execution_count": 86,
     "metadata": {},
     "output_type": "execute_result"
    }
   ],
   "source": [
    "# import data\n",
    "df = pd.read_csv(\"heart_failure_clinical_records_dataset.csv\")\n",
    "described = df.describe().drop(axis=0, index=[\"std\",\"25%\",\"50%\",\"75%\"])\n",
    "described"
   ]
  },
  {
   "cell_type": "markdown",
   "metadata": {},
   "source": [
    "We can note the dataset has 12 features contributing to the DEATH_EVENT. No columns are dropped."
   ]
  },
  {
   "cell_type": "code",
   "execution_count": 68,
   "metadata": {},
   "outputs": [],
   "source": [
    "# pre-processing\n",
    "X = df.iloc[:,:-1].values\n",
    "y = df.DEATH_EVENT.values\n",
    "\n",
    "X_train, X_test, y_train, y_test = train_test_split(X, y, test_size=0.2, random_state=69)"
   ]
  },
  {
   "cell_type": "code",
   "execution_count": 70,
   "metadata": {},
   "outputs": [],
   "source": [
    "# scaling\n",
    "scaler = StandardScaler()\n",
    "X_train = scaler.fit_transform(X_train)\n",
    "X_test = scaler.transform(X_test)"
   ]
  },
  {
   "cell_type": "code",
   "execution_count": 87,
   "metadata": {},
   "outputs": [
    {
     "data": {
      "text/plain": [
       "0.3179916317991632"
      ]
     },
     "execution_count": 87,
     "metadata": {},
     "output_type": "execute_result"
    }
   ],
   "source": [
    "threshold = y_train.mean()\n",
    "threshold"
   ]
  },
  {
   "cell_type": "markdown",
   "metadata": {},
   "source": [
    "## Neural Network"
   ]
  },
  {
   "cell_type": "code",
   "execution_count": 96,
   "metadata": {},
   "outputs": [],
   "source": [
    "# initialise\n",
    "ann = Sequential()\n",
    "\n",
    "# input layer\n",
    "ann.add(Dense(units=16, kernel_initializer=\"uniform\", activation=\"relu\", input_dim=12))\n",
    "\n",
    "# hidden layers w/ regularisation\n",
    "ann.add(Dense(units=8, kernel_initializer=\"uniform\", activation=\"relu\"))\n",
    "ann.add(Dropout(0.25))\n",
    "ann.add(Dense(units=8, kernel_initializer=\"uniform\", activation=\"relu\"))\n",
    "ann.add(Dropout(0.5))\n",
    "\n",
    "# output layer\n",
    "ann.add(Dense(units=1, kernel_initializer=\"uniform\", activation=\"sigmoid\")) # units = 1 because this is binary classification (0 or 1)\n"
   ]
  },
  {
   "cell_type": "code",
   "execution_count": 72,
   "metadata": {},
   "outputs": [],
   "source": [
    "# compile the network\n",
    "ann.compile(optimizer=\"adam\", loss=\"binary_crossentropy\", metrics=[\"accuracy\"])"
   ]
  },
  {
   "cell_type": "code",
   "execution_count": 73,
   "metadata": {},
   "outputs": [
    {
     "name": "stdout",
     "output_type": "stream",
     "text": [
      "Epoch 1/100\n",
      "6/6 [==============================] - 1s 40ms/step - loss: 0.6928 - accuracy: 0.6257 - val_loss: 0.6919 - val_accuracy: 0.7000\n",
      "Epoch 2/100\n",
      "6/6 [==============================] - 0s 9ms/step - loss: 0.6916 - accuracy: 0.6760 - val_loss: 0.6908 - val_accuracy: 0.7000\n",
      "Epoch 3/100\n",
      "6/6 [==============================] - 0s 9ms/step - loss: 0.6907 - accuracy: 0.6760 - val_loss: 0.6896 - val_accuracy: 0.7000\n",
      "Epoch 4/100\n",
      "6/6 [==============================] - 0s 8ms/step - loss: 0.6896 - accuracy: 0.6760 - val_loss: 0.6885 - val_accuracy: 0.7000\n",
      "Epoch 5/100\n",
      "6/6 [==============================] - 0s 10ms/step - loss: 0.6886 - accuracy: 0.6760 - val_loss: 0.6872 - val_accuracy: 0.7000\n",
      "Epoch 6/100\n",
      "6/6 [==============================] - 0s 10ms/step - loss: 0.6875 - accuracy: 0.6760 - val_loss: 0.6858 - val_accuracy: 0.7000\n",
      "Epoch 7/100\n",
      "6/6 [==============================] - 0s 9ms/step - loss: 0.6862 - accuracy: 0.6760 - val_loss: 0.6844 - val_accuracy: 0.7000\n",
      "Epoch 8/100\n",
      "6/6 [==============================] - 0s 9ms/step - loss: 0.6848 - accuracy: 0.6760 - val_loss: 0.6828 - val_accuracy: 0.7000\n",
      "Epoch 9/100\n",
      "6/6 [==============================] - 0s 9ms/step - loss: 0.6835 - accuracy: 0.6760 - val_loss: 0.6811 - val_accuracy: 0.7000\n",
      "Epoch 10/100\n",
      "6/6 [==============================] - 0s 10ms/step - loss: 0.6818 - accuracy: 0.6760 - val_loss: 0.6791 - val_accuracy: 0.7000\n",
      "Epoch 11/100\n",
      "6/6 [==============================] - 0s 10ms/step - loss: 0.6802 - accuracy: 0.6760 - val_loss: 0.6769 - val_accuracy: 0.7000\n",
      "Epoch 12/100\n",
      "6/6 [==============================] - 0s 9ms/step - loss: 0.6788 - accuracy: 0.6760 - val_loss: 0.6744 - val_accuracy: 0.7000\n",
      "Epoch 13/100\n",
      "6/6 [==============================] - 0s 9ms/step - loss: 0.6748 - accuracy: 0.6760 - val_loss: 0.6713 - val_accuracy: 0.7000\n",
      "Epoch 14/100\n",
      "6/6 [==============================] - 0s 9ms/step - loss: 0.6706 - accuracy: 0.6760 - val_loss: 0.6675 - val_accuracy: 0.7000\n",
      "Epoch 15/100\n",
      "6/6 [==============================] - 0s 9ms/step - loss: 0.6648 - accuracy: 0.6760 - val_loss: 0.6628 - val_accuracy: 0.7000\n",
      "Epoch 16/100\n",
      "6/6 [==============================] - 0s 9ms/step - loss: 0.6628 - accuracy: 0.6760 - val_loss: 0.6569 - val_accuracy: 0.7000\n",
      "Epoch 17/100\n",
      "6/6 [==============================] - 0s 9ms/step - loss: 0.6546 - accuracy: 0.6760 - val_loss: 0.6502 - val_accuracy: 0.7000\n",
      "Epoch 18/100\n",
      "6/6 [==============================] - 0s 9ms/step - loss: 0.6517 - accuracy: 0.6760 - val_loss: 0.6426 - val_accuracy: 0.7000\n",
      "Epoch 19/100\n",
      "6/6 [==============================] - 0s 9ms/step - loss: 0.6387 - accuracy: 0.6760 - val_loss: 0.6338 - val_accuracy: 0.7000\n",
      "Epoch 20/100\n",
      "6/6 [==============================] - 0s 9ms/step - loss: 0.6319 - accuracy: 0.6872 - val_loss: 0.6240 - val_accuracy: 0.7167\n",
      "Epoch 21/100\n",
      "6/6 [==============================] - 0s 9ms/step - loss: 0.6166 - accuracy: 0.6872 - val_loss: 0.6122 - val_accuracy: 0.7333\n",
      "Epoch 22/100\n",
      "6/6 [==============================] - 0s 10ms/step - loss: 0.6190 - accuracy: 0.7430 - val_loss: 0.5996 - val_accuracy: 0.7500\n",
      "Epoch 23/100\n",
      "6/6 [==============================] - 0s 8ms/step - loss: 0.5986 - accuracy: 0.7542 - val_loss: 0.5858 - val_accuracy: 0.7167\n",
      "Epoch 24/100\n",
      "6/6 [==============================] - 0s 8ms/step - loss: 0.5775 - accuracy: 0.7821 - val_loss: 0.5708 - val_accuracy: 0.7500\n",
      "Epoch 25/100\n",
      "6/6 [==============================] - 0s 8ms/step - loss: 0.5501 - accuracy: 0.7933 - val_loss: 0.5536 - val_accuracy: 0.7667\n",
      "Epoch 26/100\n",
      "6/6 [==============================] - 0s 8ms/step - loss: 0.5415 - accuracy: 0.8101 - val_loss: 0.5360 - val_accuracy: 0.7667\n",
      "Epoch 27/100\n",
      "6/6 [==============================] - 0s 8ms/step - loss: 0.5324 - accuracy: 0.8492 - val_loss: 0.5190 - val_accuracy: 0.7667\n",
      "Epoch 28/100\n",
      "6/6 [==============================] - 0s 8ms/step - loss: 0.5081 - accuracy: 0.8268 - val_loss: 0.5038 - val_accuracy: 0.7833\n",
      "Epoch 29/100\n",
      "6/6 [==============================] - 0s 8ms/step - loss: 0.5011 - accuracy: 0.8436 - val_loss: 0.4902 - val_accuracy: 0.7667\n",
      "Epoch 30/100\n",
      "6/6 [==============================] - 0s 9ms/step - loss: 0.4925 - accuracy: 0.8324 - val_loss: 0.4781 - val_accuracy: 0.8000\n",
      "Epoch 31/100\n",
      "6/6 [==============================] - 0s 9ms/step - loss: 0.4878 - accuracy: 0.8547 - val_loss: 0.4678 - val_accuracy: 0.8000\n",
      "Epoch 32/100\n",
      "6/6 [==============================] - 0s 8ms/step - loss: 0.4857 - accuracy: 0.8492 - val_loss: 0.4590 - val_accuracy: 0.8000\n",
      "Epoch 33/100\n",
      "6/6 [==============================] - 0s 9ms/step - loss: 0.4887 - accuracy: 0.8268 - val_loss: 0.4531 - val_accuracy: 0.8000\n",
      "Epoch 34/100\n",
      "6/6 [==============================] - 0s 9ms/step - loss: 0.4538 - accuracy: 0.8492 - val_loss: 0.4491 - val_accuracy: 0.7833\n",
      "Epoch 35/100\n",
      "6/6 [==============================] - 0s 9ms/step - loss: 0.4364 - accuracy: 0.8715 - val_loss: 0.4453 - val_accuracy: 0.7833\n",
      "Epoch 36/100\n",
      "6/6 [==============================] - 0s 9ms/step - loss: 0.4566 - accuracy: 0.8380 - val_loss: 0.4447 - val_accuracy: 0.7833\n",
      "Epoch 37/100\n",
      "6/6 [==============================] - 0s 9ms/step - loss: 0.4390 - accuracy: 0.8715 - val_loss: 0.4431 - val_accuracy: 0.7833\n",
      "Epoch 38/100\n",
      "6/6 [==============================] - 0s 9ms/step - loss: 0.4492 - accuracy: 0.8436 - val_loss: 0.4404 - val_accuracy: 0.7833\n",
      "Epoch 39/100\n",
      "6/6 [==============================] - 0s 9ms/step - loss: 0.4526 - accuracy: 0.8715 - val_loss: 0.4389 - val_accuracy: 0.8000\n",
      "Epoch 40/100\n",
      "6/6 [==============================] - 0s 8ms/step - loss: 0.4405 - accuracy: 0.8603 - val_loss: 0.4389 - val_accuracy: 0.8000\n",
      "Epoch 41/100\n",
      "6/6 [==============================] - 0s 9ms/step - loss: 0.4504 - accuracy: 0.8380 - val_loss: 0.4394 - val_accuracy: 0.8000\n",
      "Epoch 42/100\n",
      "6/6 [==============================] - 0s 9ms/step - loss: 0.4577 - accuracy: 0.8659 - val_loss: 0.4412 - val_accuracy: 0.8000\n",
      "Epoch 43/100\n",
      "6/6 [==============================] - 0s 9ms/step - loss: 0.4544 - accuracy: 0.8492 - val_loss: 0.4434 - val_accuracy: 0.7833\n",
      "Epoch 44/100\n",
      "6/6 [==============================] - 0s 9ms/step - loss: 0.4775 - accuracy: 0.8268 - val_loss: 0.4447 - val_accuracy: 0.8000\n",
      "Epoch 45/100\n",
      "6/6 [==============================] - 0s 8ms/step - loss: 0.4244 - accuracy: 0.8603 - val_loss: 0.4433 - val_accuracy: 0.7833\n",
      "Epoch 46/100\n",
      "6/6 [==============================] - 0s 10ms/step - loss: 0.4200 - accuracy: 0.8547 - val_loss: 0.4429 - val_accuracy: 0.7833\n",
      "Epoch 47/100\n",
      "6/6 [==============================] - 0s 8ms/step - loss: 0.4062 - accuracy: 0.8380 - val_loss: 0.4424 - val_accuracy: 0.7833\n",
      "Epoch 48/100\n",
      "6/6 [==============================] - 0s 8ms/step - loss: 0.4042 - accuracy: 0.8492 - val_loss: 0.4413 - val_accuracy: 0.7833\n",
      "Epoch 49/100\n",
      "6/6 [==============================] - 0s 8ms/step - loss: 0.4845 - accuracy: 0.8324 - val_loss: 0.4416 - val_accuracy: 0.8000\n",
      "Epoch 50/100\n",
      "6/6 [==============================] - 0s 9ms/step - loss: 0.4631 - accuracy: 0.8603 - val_loss: 0.4422 - val_accuracy: 0.7833\n",
      "Epoch 51/100\n",
      "6/6 [==============================] - 0s 9ms/step - loss: 0.3965 - accuracy: 0.8603 - val_loss: 0.4413 - val_accuracy: 0.7833\n",
      "Epoch 52/100\n",
      "6/6 [==============================] - 0s 9ms/step - loss: 0.4177 - accuracy: 0.8603 - val_loss: 0.4402 - val_accuracy: 0.7833\n",
      "Epoch 53/100\n",
      "6/6 [==============================] - 0s 10ms/step - loss: 0.4077 - accuracy: 0.8547 - val_loss: 0.4393 - val_accuracy: 0.7833\n",
      "Epoch 54/100\n",
      "6/6 [==============================] - 0s 9ms/step - loss: 0.4173 - accuracy: 0.8603 - val_loss: 0.4397 - val_accuracy: 0.7833\n",
      "Epoch 55/100\n",
      "6/6 [==============================] - 0s 9ms/step - loss: 0.4135 - accuracy: 0.8659 - val_loss: 0.4417 - val_accuracy: 0.7833\n",
      "Epoch 56/100\n",
      "6/6 [==============================] - 0s 9ms/step - loss: 0.4210 - accuracy: 0.8659 - val_loss: 0.4432 - val_accuracy: 0.7833\n",
      "Epoch 57/100\n",
      "6/6 [==============================] - 0s 9ms/step - loss: 0.4071 - accuracy: 0.8492 - val_loss: 0.4443 - val_accuracy: 0.7833\n",
      "Epoch 58/100\n",
      "6/6 [==============================] - 0s 12ms/step - loss: 0.3959 - accuracy: 0.8547 - val_loss: 0.4464 - val_accuracy: 0.7667\n",
      "Epoch 59/100\n",
      "6/6 [==============================] - 0s 8ms/step - loss: 0.3872 - accuracy: 0.8883 - val_loss: 0.4465 - val_accuracy: 0.7667\n",
      "Epoch 60/100\n",
      "6/6 [==============================] - 0s 8ms/step - loss: 0.4219 - accuracy: 0.8547 - val_loss: 0.4466 - val_accuracy: 0.7667\n",
      "Epoch 61/100\n",
      "6/6 [==============================] - 0s 8ms/step - loss: 0.3964 - accuracy: 0.8380 - val_loss: 0.4451 - val_accuracy: 0.7667\n",
      "Epoch 62/100\n",
      "6/6 [==============================] - 0s 8ms/step - loss: 0.3690 - accuracy: 0.8715 - val_loss: 0.4442 - val_accuracy: 0.7833\n",
      "Epoch 63/100\n",
      "6/6 [==============================] - 0s 8ms/step - loss: 0.4035 - accuracy: 0.8492 - val_loss: 0.4448 - val_accuracy: 0.7667\n",
      "Epoch 64/100\n",
      "6/6 [==============================] - 0s 9ms/step - loss: 0.4590 - accuracy: 0.8547 - val_loss: 0.4457 - val_accuracy: 0.7667\n",
      "Epoch 65/100\n",
      "6/6 [==============================] - 0s 9ms/step - loss: 0.3698 - accuracy: 0.8659 - val_loss: 0.4445 - val_accuracy: 0.7833\n",
      "Epoch 66/100\n",
      "6/6 [==============================] - 0s 9ms/step - loss: 0.4020 - accuracy: 0.8715 - val_loss: 0.4422 - val_accuracy: 0.7833\n",
      "Epoch 67/100\n",
      "6/6 [==============================] - 0s 8ms/step - loss: 0.4228 - accuracy: 0.8547 - val_loss: 0.4424 - val_accuracy: 0.7833\n",
      "Epoch 68/100\n",
      "6/6 [==============================] - 0s 8ms/step - loss: 0.3990 - accuracy: 0.8771 - val_loss: 0.4443 - val_accuracy: 0.7833\n",
      "Epoch 69/100\n",
      "6/6 [==============================] - 0s 9ms/step - loss: 0.3810 - accuracy: 0.8492 - val_loss: 0.4458 - val_accuracy: 0.7833\n",
      "Epoch 70/100\n",
      "6/6 [==============================] - 0s 8ms/step - loss: 0.4151 - accuracy: 0.8771 - val_loss: 0.4462 - val_accuracy: 0.7833\n",
      "Epoch 71/100\n",
      "6/6 [==============================] - 0s 8ms/step - loss: 0.4445 - accuracy: 0.8547 - val_loss: 0.4472 - val_accuracy: 0.7833\n",
      "Epoch 72/100\n",
      "6/6 [==============================] - 0s 8ms/step - loss: 0.4008 - accuracy: 0.8492 - val_loss: 0.4488 - val_accuracy: 0.7667\n",
      "Epoch 73/100\n",
      "6/6 [==============================] - 0s 8ms/step - loss: 0.3786 - accuracy: 0.8883 - val_loss: 0.4515 - val_accuracy: 0.7667\n",
      "Epoch 74/100\n",
      "6/6 [==============================] - 0s 9ms/step - loss: 0.4148 - accuracy: 0.8547 - val_loss: 0.4509 - val_accuracy: 0.7667\n",
      "Epoch 75/100\n",
      "6/6 [==============================] - 0s 9ms/step - loss: 0.4112 - accuracy: 0.8659 - val_loss: 0.4517 - val_accuracy: 0.7667\n",
      "Epoch 76/100\n",
      "6/6 [==============================] - 0s 9ms/step - loss: 0.3922 - accuracy: 0.8715 - val_loss: 0.4539 - val_accuracy: 0.7667\n",
      "Epoch 77/100\n",
      "6/6 [==============================] - 0s 8ms/step - loss: 0.4046 - accuracy: 0.8659 - val_loss: 0.4541 - val_accuracy: 0.7667\n",
      "Epoch 78/100\n",
      "6/6 [==============================] - 0s 8ms/step - loss: 0.3716 - accuracy: 0.8715 - val_loss: 0.4544 - val_accuracy: 0.7667\n",
      "Epoch 79/100\n",
      "6/6 [==============================] - 0s 8ms/step - loss: 0.3990 - accuracy: 0.8771 - val_loss: 0.4575 - val_accuracy: 0.7667\n",
      "Epoch 80/100\n",
      "6/6 [==============================] - 0s 9ms/step - loss: 0.3884 - accuracy: 0.8659 - val_loss: 0.4586 - val_accuracy: 0.7667\n",
      "Epoch 81/100\n",
      "6/6 [==============================] - 0s 8ms/step - loss: 0.3454 - accuracy: 0.8715 - val_loss: 0.4596 - val_accuracy: 0.7667\n",
      "Epoch 82/100\n",
      "6/6 [==============================] - 0s 8ms/step - loss: 0.3903 - accuracy: 0.8827 - val_loss: 0.4610 - val_accuracy: 0.7667\n",
      "Epoch 83/100\n",
      "6/6 [==============================] - 0s 9ms/step - loss: 0.3519 - accuracy: 0.8715 - val_loss: 0.4614 - val_accuracy: 0.7833\n",
      "Epoch 84/100\n",
      "6/6 [==============================] - 0s 9ms/step - loss: 0.3840 - accuracy: 0.8715 - val_loss: 0.4621 - val_accuracy: 0.7667\n",
      "Epoch 85/100\n",
      "6/6 [==============================] - 0s 8ms/step - loss: 0.3436 - accuracy: 0.8994 - val_loss: 0.4622 - val_accuracy: 0.7667\n",
      "Epoch 86/100\n",
      "6/6 [==============================] - 0s 8ms/step - loss: 0.3942 - accuracy: 0.8883 - val_loss: 0.4632 - val_accuracy: 0.7667\n",
      "Epoch 87/100\n",
      "6/6 [==============================] - 0s 9ms/step - loss: 0.3819 - accuracy: 0.8827 - val_loss: 0.4601 - val_accuracy: 0.7667\n",
      "Epoch 88/100\n",
      "6/6 [==============================] - 0s 9ms/step - loss: 0.3751 - accuracy: 0.8659 - val_loss: 0.4577 - val_accuracy: 0.7833\n",
      "Epoch 89/100\n",
      "6/6 [==============================] - 0s 9ms/step - loss: 0.3805 - accuracy: 0.8827 - val_loss: 0.4570 - val_accuracy: 0.8000\n",
      "Epoch 90/100\n",
      "6/6 [==============================] - 0s 8ms/step - loss: 0.3503 - accuracy: 0.9050 - val_loss: 0.4581 - val_accuracy: 0.8000\n",
      "Epoch 91/100\n",
      "6/6 [==============================] - 0s 9ms/step - loss: 0.3849 - accuracy: 0.8771 - val_loss: 0.4617 - val_accuracy: 0.7833\n",
      "Epoch 92/100\n",
      "6/6 [==============================] - 0s 8ms/step - loss: 0.4116 - accuracy: 0.8715 - val_loss: 0.4638 - val_accuracy: 0.7833\n",
      "Epoch 93/100\n",
      "6/6 [==============================] - 0s 14ms/step - loss: 0.3913 - accuracy: 0.8603 - val_loss: 0.4644 - val_accuracy: 0.8000\n",
      "Epoch 94/100\n",
      "6/6 [==============================] - 0s 9ms/step - loss: 0.3534 - accuracy: 0.8659 - val_loss: 0.4636 - val_accuracy: 0.8000\n",
      "Epoch 95/100\n",
      "6/6 [==============================] - 0s 9ms/step - loss: 0.4125 - accuracy: 0.8715 - val_loss: 0.4620 - val_accuracy: 0.8000\n",
      "Epoch 96/100\n",
      "6/6 [==============================] - 0s 9ms/step - loss: 0.4029 - accuracy: 0.8771 - val_loss: 0.4599 - val_accuracy: 0.8000\n",
      "Epoch 97/100\n",
      "6/6 [==============================] - 0s 9ms/step - loss: 0.3347 - accuracy: 0.8883 - val_loss: 0.4597 - val_accuracy: 0.8000\n",
      "Epoch 98/100\n",
      "6/6 [==============================] - 0s 8ms/step - loss: 0.3978 - accuracy: 0.8827 - val_loss: 0.4594 - val_accuracy: 0.8000\n",
      "Epoch 99/100\n",
      "6/6 [==============================] - 0s 9ms/step - loss: 0.3979 - accuracy: 0.8827 - val_loss: 0.4582 - val_accuracy: 0.8000\n",
      "Epoch 100/100\n",
      "6/6 [==============================] - 0s 9ms/step - loss: 0.3840 - accuracy: 0.8603 - val_loss: 0.4570 - val_accuracy: 0.8000\n"
     ]
    }
   ],
   "source": [
    "# train the ANN\n",
    "history = ann.fit(X_train, y_train, batch_size=32, epochs=100, validation_split=0.25)"
   ]
  },
  {
   "cell_type": "code",
   "execution_count": 74,
   "metadata": {},
   "outputs": [
    {
     "name": "stdout",
     "output_type": "stream",
     "text": [
      "\n",
      "validation_accuracy is: 76.42%\n"
     ]
    }
   ],
   "source": [
    "val_accuracy = np.mean(history.history['val_accuracy'])\n",
    "print(\"\\n%s: %.2f%%\" % ('validation_accuracy is', val_accuracy*100))"
   ]
  },
  {
   "cell_type": "code",
   "execution_count": 75,
   "metadata": {},
   "outputs": [
    {
     "name": "stdout",
     "output_type": "stream",
     "text": [
      "INFO:tensorflow:Assets written to: ann_model\\assets\n"
     ]
    },
    {
     "name": "stderr",
     "output_type": "stream",
     "text": [
      "INFO:tensorflow:Assets written to: ann_model\\assets\n"
     ]
    }
   ],
   "source": [
    "# save model\n",
    "ann.save(\"ann_model\")"
   ]
  },
  {
   "cell_type": "code",
   "execution_count": 94,
   "metadata": {},
   "outputs": [
    {
     "name": "stdout",
     "output_type": "stream",
     "text": [
      "2/2 [==============================] - 0s 4ms/step\n"
     ]
    },
    {
     "data": {
      "text/plain": [
       "1"
      ]
     },
     "execution_count": 94,
     "metadata": {},
     "output_type": "execute_result"
    }
   ],
   "source": [
    "# predictions\n",
    "ann_pred = ann.predict(X_test)\n",
    "ann_pred = np.where(ann_pred>threshold, 1, 0)\n",
    "ann_pred.max()"
   ]
  },
  {
   "cell_type": "code",
   "execution_count": 107,
   "metadata": {},
   "outputs": [
    {
     "data": {
      "text/plain": [
       "<Axes: >"
      ]
     },
     "execution_count": 107,
     "metadata": {},
     "output_type": "execute_result"
    },
    {
     "data": {
      "image/png": "[encoded data removed]",
      "text/plain": [
       "<Figure size 600x500 with 2 Axes>"
      ]
     },
     "metadata": {},
     "output_type": "display_data"
    }
   ],
   "source": [
    "# Getting the confusion matrix\n",
    "plt.subplots(figsize=(6,5))\n",
    "cf_matrix = confusion_matrix(y_test, ann_pred)\n",
    "sns.heatmap(cf_matrix, annot = True, annot_kws = {'size':25}, square=True)"
   ]
  }
 ],
 "metadata": {
  "kernelspec": {
   "display_name": "Python 3",
   "language": "python",
   "name": "python3"
  },
  "language_info": {
   "codemirror_mode": {
    "name": "ipython",
    "version": 3
   },
   "file_extension": ".py",
   "mimetype": "text/x-python",
   "name": "python",
   "nbconvert_exporter": "python",
   "pygments_lexer": "ipython3",
   "version": "3.11.6"
  },
  "orig_nbformat": 4
 },
 "nbformat": 4,
 "nbformat_minor": 2
}
