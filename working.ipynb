{
 "cells": [
  {
   "cell_type": "markdown",
   "metadata": {},
   "source": [
    "# Heart Failure Prediction\n",
    "#### Using Kaggle data to create a model for predicting mortality caused by Heart Failure.\n",
    "Creating a neural network (ANN) and comparing it to baseline models (SVM, kNN, LogisticRegression, Naive-Baines)\n",
    "\n",
    "Performance metrics: accuracy, precision, recall, F1-score, ROC curve, AUC"
   ]
  },
  {
   "cell_type": "code",
   "execution_count": 45,
   "metadata": {},
   "outputs": [],
   "source": [
    "# import modules\n",
    "## standard modules\n",
    "import pandas as pd, numpy as np, matplotlib.pyplot as plt, seaborn as sns\n",
    "\n",
    "## pre-processing\n",
    "from sklearn.preprocessing import StandardScaler\n",
    "from sklearn.model_selection import train_test_split\n",
    "\n",
    "## modelling\n",
    "### baseline\n",
    "from sklearn.linear_model import LogisticRegression\n",
    "from sklearn.naive_bayes import GaussianNB\n",
    "from sklearn import svm\n",
    "from sklearn.neighbors import KNeighborsClassifier\n",
    "\n",
    "### artificial neural network (ANN)\n",
    "from keras.layers import Dense, Dropout\n",
    "from keras.models import Sequential\n",
    "\n",
    "## performance metrics\n",
    "from sklearn.metrics import confusion_matrix, classification_report, roc_auc_score, roc_curve "
   ]
  },
  {
   "cell_type": "markdown",
   "metadata": {},
   "source": [
    "## Importing data and preprocessing"
   ]
  },
  {
   "cell_type": "markdown",
   "metadata": {},
   "source": [
    "Data split and scaling"
   ]
  },
  {
   "cell_type": "code",
   "execution_count": 2,
   "metadata": {},
   "outputs": [
    {
     "data": {
      "text/html": [
       "<div>\n",
       "<style scoped>\n",
       "    .dataframe tbody tr th:only-of-type {\n",
       "        vertical-align: middle;\n",
       "    }\n",
       "\n",
       "    .dataframe tbody tr th {\n",
       "        vertical-align: top;\n",
       "    }\n",
       "\n",
       "    .dataframe thead th {\n",
       "        text-align: right;\n",
       "    }\n",
       "</style>\n",
       "<table border=\"1\" class=\"dataframe\">\n",
       "  <thead>\n",
       "    <tr style=\"text-align: right;\">\n",
       "      <th></th>\n",
       "      <th>age</th>\n",
       "      <th>anaemia</th>\n",
       "      <th>creatinine_phosphokinase</th>\n",
       "      <th>diabetes</th>\n",
       "      <th>ejection_fraction</th>\n",
       "      <th>high_blood_pressure</th>\n",
       "      <th>platelets</th>\n",
       "      <th>serum_creatinine</th>\n",
       "      <th>serum_sodium</th>\n",
       "      <th>sex</th>\n",
       "      <th>smoking</th>\n",
       "      <th>time</th>\n",
       "      <th>DEATH_EVENT</th>\n",
       "    </tr>\n",
       "  </thead>\n",
       "  <tbody>\n",
       "    <tr>\n",
       "      <th>count</th>\n",
       "      <td>299.000000</td>\n",
       "      <td>299.000000</td>\n",
       "      <td>299.000000</td>\n",
       "      <td>299.00000</td>\n",
       "      <td>299.000000</td>\n",
       "      <td>299.000000</td>\n",
       "      <td>299.000000</td>\n",
       "      <td>299.00000</td>\n",
       "      <td>299.000000</td>\n",
       "      <td>299.000000</td>\n",
       "      <td>299.00000</td>\n",
       "      <td>299.00000</td>\n",
       "      <td>299.00000</td>\n",
       "    </tr>\n",
       "    <tr>\n",
       "      <th>mean</th>\n",
       "      <td>60.833893</td>\n",
       "      <td>0.431438</td>\n",
       "      <td>581.839465</td>\n",
       "      <td>0.41806</td>\n",
       "      <td>38.083612</td>\n",
       "      <td>0.351171</td>\n",
       "      <td>263358.029264</td>\n",
       "      <td>1.39388</td>\n",
       "      <td>136.625418</td>\n",
       "      <td>0.648829</td>\n",
       "      <td>0.32107</td>\n",
       "      <td>130.26087</td>\n",
       "      <td>0.32107</td>\n",
       "    </tr>\n",
       "    <tr>\n",
       "      <th>min</th>\n",
       "      <td>40.000000</td>\n",
       "      <td>0.000000</td>\n",
       "      <td>23.000000</td>\n",
       "      <td>0.00000</td>\n",
       "      <td>14.000000</td>\n",
       "      <td>0.000000</td>\n",
       "      <td>25100.000000</td>\n",
       "      <td>0.50000</td>\n",
       "      <td>113.000000</td>\n",
       "      <td>0.000000</td>\n",
       "      <td>0.00000</td>\n",
       "      <td>4.00000</td>\n",
       "      <td>0.00000</td>\n",
       "    </tr>\n",
       "    <tr>\n",
       "      <th>max</th>\n",
       "      <td>95.000000</td>\n",
       "      <td>1.000000</td>\n",
       "      <td>7861.000000</td>\n",
       "      <td>1.00000</td>\n",
       "      <td>80.000000</td>\n",
       "      <td>1.000000</td>\n",
       "      <td>850000.000000</td>\n",
       "      <td>9.40000</td>\n",
       "      <td>148.000000</td>\n",
       "      <td>1.000000</td>\n",
       "      <td>1.00000</td>\n",
       "      <td>285.00000</td>\n",
       "      <td>1.00000</td>\n",
       "    </tr>\n",
       "  </tbody>\n",
       "</table>\n",
       "</div>"
      ],
      "text/plain": [
       "              age     anaemia  creatinine_phosphokinase   diabetes  \\\n",
       "count  299.000000  299.000000                299.000000  299.00000   \n",
       "mean    60.833893    0.431438                581.839465    0.41806   \n",
       "min     40.000000    0.000000                 23.000000    0.00000   \n",
       "max     95.000000    1.000000               7861.000000    1.00000   \n",
       "\n",
       "       ejection_fraction  high_blood_pressure      platelets  \\\n",
       "count         299.000000           299.000000     299.000000   \n",
       "mean           38.083612             0.351171  263358.029264   \n",
       "min            14.000000             0.000000   25100.000000   \n",
       "max            80.000000             1.000000  850000.000000   \n",
       "\n",
       "       serum_creatinine  serum_sodium         sex    smoking       time  \\\n",
       "count         299.00000    299.000000  299.000000  299.00000  299.00000   \n",
       "mean            1.39388    136.625418    0.648829    0.32107  130.26087   \n",
       "min             0.50000    113.000000    0.000000    0.00000    4.00000   \n",
       "max             9.40000    148.000000    1.000000    1.00000  285.00000   \n",
       "\n",
       "       DEATH_EVENT  \n",
       "count    299.00000  \n",
       "mean       0.32107  \n",
       "min        0.00000  \n",
       "max        1.00000  "
      ]
     },
     "execution_count": 2,
     "metadata": {},
     "output_type": "execute_result"
    }
   ],
   "source": [
    "# import data\n",
    "df = pd.read_csv(\"heart_failure_clinical_records_dataset.csv\")\n",
    "described = df.describe().drop(axis=0, index=[\"std\",\"25%\",\"50%\",\"75%\"])\n",
    "described"
   ]
  },
  {
   "cell_type": "markdown",
   "metadata": {},
   "source": [
    "We can note the dataset has 12 features contributing to the DEATH_EVENT. No columns are dropped."
   ]
  },
  {
   "cell_type": "code",
   "execution_count": 3,
   "metadata": {},
   "outputs": [],
   "source": [
    "# pre-processing\n",
    "X = df.iloc[:,:-1].values\n",
    "y = df.DEATH_EVENT.values\n",
    "\n",
    "X_train, X_test, y_train, y_test = train_test_split(X, y, test_size=0.2, random_state=69)"
   ]
  },
  {
   "cell_type": "code",
   "execution_count": 4,
   "metadata": {},
   "outputs": [],
   "source": [
    "# scaling\n",
    "scaler = StandardScaler()\n",
    "X_train = scaler.fit_transform(X_train)\n",
    "X_test = scaler.transform(X_test)"
   ]
  },
  {
   "cell_type": "code",
   "execution_count": 5,
   "metadata": {},
   "outputs": [
    {
     "data": {
      "text/plain": [
       "0.3179916317991632"
      ]
     },
     "execution_count": 5,
     "metadata": {},
     "output_type": "execute_result"
    }
   ],
   "source": [
    "threshold = y_train.mean()\n",
    "threshold"
   ]
  },
  {
   "cell_type": "markdown",
   "metadata": {},
   "source": [
    "## Neural Network"
   ]
  },
  {
   "cell_type": "markdown",
   "metadata": {},
   "source": [
    "### Modelling"
   ]
  },
  {
   "cell_type": "code",
   "execution_count": 34,
   "metadata": {},
   "outputs": [
    {
     "name": "stdout",
     "output_type": "stream",
     "text": [
      "INFO:tensorflow:Assets written to: ann_model\\assets\n"
     ]
    },
    {
     "name": "stderr",
     "output_type": "stream",
     "text": [
      "INFO:tensorflow:Assets written to: ann_model\\assets\n"
     ]
    }
   ],
   "source": [
    "# initialise\n",
    "ann = Sequential()\n",
    "\n",
    "# input layer\n",
    "ann.add(Dense(units=16, kernel_initializer=\"uniform\", activation=\"relu\", input_dim=12))\n",
    "\n",
    "# hidden layers w/ regularisation\n",
    "ann.add(Dense(units=8, kernel_initializer=\"uniform\", activation=\"relu\"))\n",
    "ann.add(Dropout(0.25))\n",
    "ann.add(Dense(units=8, kernel_initializer=\"uniform\", activation=\"relu\"))\n",
    "ann.add(Dropout(0.5))\n",
    "\n",
    "# output layer\n",
    "ann.add(Dense(units=1, kernel_initializer=\"uniform\", activation=\"sigmoid\")) # units = 1 because this is binary classification (0 or 1)\n",
    "\n",
    "# compile the network\n",
    "ann.compile(optimizer=\"adam\", loss=\"binary_crossentropy\", metrics=[\"accuracy\"])\n",
    "\n",
    "# save model\n",
    "ann.save(\"ann_model\")\n"
   ]
  },
  {
   "cell_type": "code",
   "execution_count": 35,
   "metadata": {},
   "outputs": [
    {
     "name": "stdout",
     "output_type": "stream",
     "text": [
      "Epoch 1/100\n",
      "6/6 [==============================] - 1s 35ms/step - loss: 0.6928 - accuracy: 0.6201 - val_loss: 0.6920 - val_accuracy: 0.7000\n",
      "Epoch 2/100\n",
      "6/6 [==============================] - 0s 9ms/step - loss: 0.6917 - accuracy: 0.6760 - val_loss: 0.6908 - val_accuracy: 0.7000\n",
      "Epoch 3/100\n",
      "6/6 [==============================] - 0s 8ms/step - loss: 0.6907 - accuracy: 0.6760 - val_loss: 0.6896 - val_accuracy: 0.7000\n",
      "Epoch 4/100\n",
      "6/6 [==============================] - 0s 8ms/step - loss: 0.6895 - accuracy: 0.6760 - val_loss: 0.6884 - val_accuracy: 0.7000\n",
      "Epoch 5/100\n",
      "6/6 [==============================] - 0s 8ms/step - loss: 0.6886 - accuracy: 0.6760 - val_loss: 0.6871 - val_accuracy: 0.7000\n",
      "Epoch 6/100\n",
      "6/6 [==============================] - 0s 7ms/step - loss: 0.6872 - accuracy: 0.6760 - val_loss: 0.6858 - val_accuracy: 0.7000\n",
      "Epoch 7/100\n",
      "6/6 [==============================] - 0s 8ms/step - loss: 0.6863 - accuracy: 0.6760 - val_loss: 0.6844 - val_accuracy: 0.7000\n",
      "Epoch 8/100\n",
      "6/6 [==============================] - 0s 8ms/step - loss: 0.6853 - accuracy: 0.6760 - val_loss: 0.6830 - val_accuracy: 0.7000\n",
      "Epoch 9/100\n",
      "6/6 [==============================] - 0s 9ms/step - loss: 0.6836 - accuracy: 0.6760 - val_loss: 0.6815 - val_accuracy: 0.7000\n",
      "Epoch 10/100\n",
      "6/6 [==============================] - 0s 8ms/step - loss: 0.6823 - accuracy: 0.6760 - val_loss: 0.6798 - val_accuracy: 0.7000\n",
      "Epoch 11/100\n",
      "6/6 [==============================] - 0s 8ms/step - loss: 0.6807 - accuracy: 0.6760 - val_loss: 0.6779 - val_accuracy: 0.7000\n",
      "Epoch 12/100\n",
      "6/6 [==============================] - 0s 8ms/step - loss: 0.6795 - accuracy: 0.6760 - val_loss: 0.6757 - val_accuracy: 0.7000\n",
      "Epoch 13/100\n",
      "6/6 [==============================] - 0s 9ms/step - loss: 0.6751 - accuracy: 0.6760 - val_loss: 0.6728 - val_accuracy: 0.7000\n",
      "Epoch 14/100\n",
      "6/6 [==============================] - 0s 9ms/step - loss: 0.6752 - accuracy: 0.6760 - val_loss: 0.6693 - val_accuracy: 0.7000\n",
      "Epoch 15/100\n",
      "6/6 [==============================] - 0s 8ms/step - loss: 0.6713 - accuracy: 0.6760 - val_loss: 0.6654 - val_accuracy: 0.7000\n",
      "Epoch 16/100\n",
      "6/6 [==============================] - 0s 8ms/step - loss: 0.6662 - accuracy: 0.6760 - val_loss: 0.6604 - val_accuracy: 0.7000\n",
      "Epoch 17/100\n",
      "6/6 [==============================] - 0s 9ms/step - loss: 0.6604 - accuracy: 0.6760 - val_loss: 0.6543 - val_accuracy: 0.7000\n",
      "Epoch 18/100\n",
      "6/6 [==============================] - 0s 12ms/step - loss: 0.6550 - accuracy: 0.6760 - val_loss: 0.6468 - val_accuracy: 0.7000\n",
      "Epoch 19/100\n",
      "6/6 [==============================] - 0s 9ms/step - loss: 0.6446 - accuracy: 0.6760 - val_loss: 0.6371 - val_accuracy: 0.7000\n",
      "Epoch 20/100\n",
      "6/6 [==============================] - 0s 9ms/step - loss: 0.6380 - accuracy: 0.6760 - val_loss: 0.6252 - val_accuracy: 0.7000\n",
      "Epoch 21/100\n",
      "6/6 [==============================] - 0s 9ms/step - loss: 0.6164 - accuracy: 0.6760 - val_loss: 0.6110 - val_accuracy: 0.7000\n",
      "Epoch 22/100\n",
      "6/6 [==============================] - 0s 12ms/step - loss: 0.6023 - accuracy: 0.6816 - val_loss: 0.5944 - val_accuracy: 0.7167\n",
      "Epoch 23/100\n",
      "6/6 [==============================] - 0s 11ms/step - loss: 0.5997 - accuracy: 0.6872 - val_loss: 0.5768 - val_accuracy: 0.7333\n",
      "Epoch 24/100\n",
      "6/6 [==============================] - 0s 11ms/step - loss: 0.5861 - accuracy: 0.7095 - val_loss: 0.5577 - val_accuracy: 0.7500\n",
      "Epoch 25/100\n",
      "6/6 [==============================] - 0s 8ms/step - loss: 0.5538 - accuracy: 0.7430 - val_loss: 0.5385 - val_accuracy: 0.7333\n",
      "Epoch 26/100\n",
      "6/6 [==============================] - 0s 8ms/step - loss: 0.5343 - accuracy: 0.7709 - val_loss: 0.5195 - val_accuracy: 0.7833\n",
      "Epoch 27/100\n",
      "6/6 [==============================] - 0s 8ms/step - loss: 0.5043 - accuracy: 0.8045 - val_loss: 0.5018 - val_accuracy: 0.7667\n",
      "Epoch 28/100\n",
      "6/6 [==============================] - 0s 9ms/step - loss: 0.5195 - accuracy: 0.7821 - val_loss: 0.4862 - val_accuracy: 0.7833\n",
      "Epoch 29/100\n",
      "6/6 [==============================] - 0s 8ms/step - loss: 0.4896 - accuracy: 0.8156 - val_loss: 0.4725 - val_accuracy: 0.8167\n",
      "Epoch 30/100\n",
      "6/6 [==============================] - 0s 8ms/step - loss: 0.4764 - accuracy: 0.8212 - val_loss: 0.4623 - val_accuracy: 0.8167\n",
      "Epoch 31/100\n",
      "6/6 [==============================] - 0s 8ms/step - loss: 0.4931 - accuracy: 0.8324 - val_loss: 0.4544 - val_accuracy: 0.8167\n",
      "Epoch 32/100\n",
      "6/6 [==============================] - 0s 8ms/step - loss: 0.4538 - accuracy: 0.8380 - val_loss: 0.4458 - val_accuracy: 0.8167\n",
      "Epoch 33/100\n",
      "6/6 [==============================] - 0s 9ms/step - loss: 0.4284 - accuracy: 0.8436 - val_loss: 0.4393 - val_accuracy: 0.7833\n",
      "Epoch 34/100\n",
      "6/6 [==============================] - 0s 12ms/step - loss: 0.4301 - accuracy: 0.8603 - val_loss: 0.4350 - val_accuracy: 0.8000\n",
      "Epoch 35/100\n",
      "6/6 [==============================] - 0s 8ms/step - loss: 0.4473 - accuracy: 0.8436 - val_loss: 0.4336 - val_accuracy: 0.8000\n",
      "Epoch 36/100\n",
      "6/6 [==============================] - 0s 8ms/step - loss: 0.4031 - accuracy: 0.8380 - val_loss: 0.4337 - val_accuracy: 0.8000\n",
      "Epoch 37/100\n",
      "6/6 [==============================] - 0s 9ms/step - loss: 0.4389 - accuracy: 0.8547 - val_loss: 0.4357 - val_accuracy: 0.8000\n",
      "Epoch 38/100\n",
      "6/6 [==============================] - 0s 9ms/step - loss: 0.3961 - accuracy: 0.8492 - val_loss: 0.4370 - val_accuracy: 0.8000\n",
      "Epoch 39/100\n",
      "6/6 [==============================] - 0s 8ms/step - loss: 0.3771 - accuracy: 0.8771 - val_loss: 0.4375 - val_accuracy: 0.8000\n",
      "Epoch 40/100\n",
      "6/6 [==============================] - 0s 8ms/step - loss: 0.3913 - accuracy: 0.8492 - val_loss: 0.4381 - val_accuracy: 0.8000\n",
      "Epoch 41/100\n",
      "6/6 [==============================] - 0s 8ms/step - loss: 0.4031 - accuracy: 0.8659 - val_loss: 0.4403 - val_accuracy: 0.8000\n",
      "Epoch 42/100\n",
      "6/6 [==============================] - 0s 9ms/step - loss: 0.4000 - accuracy: 0.8603 - val_loss: 0.4437 - val_accuracy: 0.8000\n",
      "Epoch 43/100\n",
      "6/6 [==============================] - 0s 9ms/step - loss: 0.3977 - accuracy: 0.8603 - val_loss: 0.4465 - val_accuracy: 0.8000\n",
      "Epoch 44/100\n",
      "6/6 [==============================] - 0s 9ms/step - loss: 0.3924 - accuracy: 0.8380 - val_loss: 0.4458 - val_accuracy: 0.8000\n",
      "Epoch 45/100\n",
      "6/6 [==============================] - 0s 9ms/step - loss: 0.4250 - accuracy: 0.8547 - val_loss: 0.4455 - val_accuracy: 0.8000\n",
      "Epoch 46/100\n",
      "6/6 [==============================] - 0s 9ms/step - loss: 0.4079 - accuracy: 0.8547 - val_loss: 0.4448 - val_accuracy: 0.7833\n",
      "Epoch 47/100\n",
      "6/6 [==============================] - 0s 9ms/step - loss: 0.3738 - accuracy: 0.8324 - val_loss: 0.4454 - val_accuracy: 0.7833\n",
      "Epoch 48/100\n",
      "6/6 [==============================] - 0s 9ms/step - loss: 0.3857 - accuracy: 0.8715 - val_loss: 0.4460 - val_accuracy: 0.7833\n",
      "Epoch 49/100\n",
      "6/6 [==============================] - 0s 8ms/step - loss: 0.3639 - accuracy: 0.8603 - val_loss: 0.4465 - val_accuracy: 0.8000\n",
      "Epoch 50/100\n",
      "6/6 [==============================] - 0s 8ms/step - loss: 0.3695 - accuracy: 0.8492 - val_loss: 0.4499 - val_accuracy: 0.8000\n",
      "Epoch 51/100\n",
      "6/6 [==============================] - 0s 8ms/step - loss: 0.3935 - accuracy: 0.8547 - val_loss: 0.4507 - val_accuracy: 0.8000\n",
      "Epoch 52/100\n",
      "6/6 [==============================] - 0s 8ms/step - loss: 0.4023 - accuracy: 0.8492 - val_loss: 0.4482 - val_accuracy: 0.8000\n",
      "Epoch 53/100\n",
      "6/6 [==============================] - 0s 9ms/step - loss: 0.3959 - accuracy: 0.8603 - val_loss: 0.4467 - val_accuracy: 0.8000\n",
      "Epoch 54/100\n",
      "6/6 [==============================] - 0s 9ms/step - loss: 0.3974 - accuracy: 0.8603 - val_loss: 0.4470 - val_accuracy: 0.8000\n",
      "Epoch 55/100\n",
      "6/6 [==============================] - 0s 9ms/step - loss: 0.3904 - accuracy: 0.8603 - val_loss: 0.4460 - val_accuracy: 0.8000\n",
      "Epoch 56/100\n",
      "6/6 [==============================] - 0s 9ms/step - loss: 0.3686 - accuracy: 0.8771 - val_loss: 0.4460 - val_accuracy: 0.8167\n",
      "Epoch 57/100\n",
      "6/6 [==============================] - 0s 9ms/step - loss: 0.3757 - accuracy: 0.8827 - val_loss: 0.4459 - val_accuracy: 0.8167\n",
      "Epoch 58/100\n",
      "6/6 [==============================] - 0s 9ms/step - loss: 0.3528 - accuracy: 0.8547 - val_loss: 0.4452 - val_accuracy: 0.8167\n",
      "Epoch 59/100\n",
      "6/6 [==============================] - 0s 9ms/step - loss: 0.3625 - accuracy: 0.8827 - val_loss: 0.4446 - val_accuracy: 0.8167\n",
      "Epoch 60/100\n",
      "6/6 [==============================] - 0s 9ms/step - loss: 0.3630 - accuracy: 0.8659 - val_loss: 0.4456 - val_accuracy: 0.8167\n",
      "Epoch 61/100\n",
      "6/6 [==============================] - 0s 8ms/step - loss: 0.4163 - accuracy: 0.8603 - val_loss: 0.4457 - val_accuracy: 0.8167\n",
      "Epoch 62/100\n",
      "6/6 [==============================] - 0s 8ms/step - loss: 0.3624 - accuracy: 0.8547 - val_loss: 0.4461 - val_accuracy: 0.8167\n",
      "Epoch 63/100\n",
      "6/6 [==============================] - 0s 9ms/step - loss: 0.3580 - accuracy: 0.8771 - val_loss: 0.4476 - val_accuracy: 0.8167\n",
      "Epoch 64/100\n",
      "6/6 [==============================] - 0s 9ms/step - loss: 0.3605 - accuracy: 0.8492 - val_loss: 0.4492 - val_accuracy: 0.8167\n",
      "Epoch 65/100\n",
      "6/6 [==============================] - 0s 8ms/step - loss: 0.3419 - accuracy: 0.8883 - val_loss: 0.4508 - val_accuracy: 0.8167\n",
      "Epoch 66/100\n",
      "6/6 [==============================] - 0s 8ms/step - loss: 0.3639 - accuracy: 0.8715 - val_loss: 0.4519 - val_accuracy: 0.8167\n",
      "Epoch 67/100\n",
      "6/6 [==============================] - 0s 8ms/step - loss: 0.3309 - accuracy: 0.8492 - val_loss: 0.4531 - val_accuracy: 0.8167\n",
      "Epoch 68/100\n",
      "6/6 [==============================] - 0s 9ms/step - loss: 0.3776 - accuracy: 0.8659 - val_loss: 0.4543 - val_accuracy: 0.8167\n",
      "Epoch 69/100\n",
      "6/6 [==============================] - 0s 9ms/step - loss: 0.3920 - accuracy: 0.8659 - val_loss: 0.4557 - val_accuracy: 0.8167\n",
      "Epoch 70/100\n",
      "6/6 [==============================] - 0s 9ms/step - loss: 0.3924 - accuracy: 0.8547 - val_loss: 0.4567 - val_accuracy: 0.8167\n",
      "Epoch 71/100\n",
      "6/6 [==============================] - 0s 8ms/step - loss: 0.3737 - accuracy: 0.8827 - val_loss: 0.4557 - val_accuracy: 0.8167\n",
      "Epoch 72/100\n",
      "6/6 [==============================] - 0s 8ms/step - loss: 0.3618 - accuracy: 0.8659 - val_loss: 0.4535 - val_accuracy: 0.8167\n",
      "Epoch 73/100\n",
      "6/6 [==============================] - 0s 9ms/step - loss: 0.3491 - accuracy: 0.8715 - val_loss: 0.4526 - val_accuracy: 0.8167\n",
      "Epoch 74/100\n",
      "6/6 [==============================] - 0s 10ms/step - loss: 0.3634 - accuracy: 0.8715 - val_loss: 0.4560 - val_accuracy: 0.8167\n",
      "Epoch 75/100\n",
      "6/6 [==============================] - 0s 9ms/step - loss: 0.3366 - accuracy: 0.8827 - val_loss: 0.4566 - val_accuracy: 0.8167\n",
      "Epoch 76/100\n",
      "6/6 [==============================] - 0s 8ms/step - loss: 0.3276 - accuracy: 0.8492 - val_loss: 0.4594 - val_accuracy: 0.8167\n",
      "Epoch 77/100\n",
      "6/6 [==============================] - 0s 9ms/step - loss: 0.3910 - accuracy: 0.8603 - val_loss: 0.4591 - val_accuracy: 0.8167\n",
      "Epoch 78/100\n",
      "6/6 [==============================] - 0s 9ms/step - loss: 0.3477 - accuracy: 0.8771 - val_loss: 0.4577 - val_accuracy: 0.8167\n",
      "Epoch 79/100\n",
      "6/6 [==============================] - 0s 9ms/step - loss: 0.4005 - accuracy: 0.8659 - val_loss: 0.4556 - val_accuracy: 0.8167\n",
      "Epoch 80/100\n",
      "6/6 [==============================] - 0s 9ms/step - loss: 0.3560 - accuracy: 0.8939 - val_loss: 0.4542 - val_accuracy: 0.8167\n",
      "Epoch 81/100\n",
      "6/6 [==============================] - 0s 9ms/step - loss: 0.3264 - accuracy: 0.9050 - val_loss: 0.4519 - val_accuracy: 0.8167\n",
      "Epoch 82/100\n",
      "6/6 [==============================] - 0s 16ms/step - loss: 0.3505 - accuracy: 0.8659 - val_loss: 0.4517 - val_accuracy: 0.8000\n",
      "Epoch 83/100\n",
      "6/6 [==============================] - 0s 9ms/step - loss: 0.3724 - accuracy: 0.8827 - val_loss: 0.4534 - val_accuracy: 0.8000\n",
      "Epoch 84/100\n",
      "6/6 [==============================] - 0s 8ms/step - loss: 0.3695 - accuracy: 0.8771 - val_loss: 0.4561 - val_accuracy: 0.7833\n",
      "Epoch 85/100\n",
      "6/6 [==============================] - 0s 9ms/step - loss: 0.3733 - accuracy: 0.8827 - val_loss: 0.4580 - val_accuracy: 0.7833\n",
      "Epoch 86/100\n",
      "6/6 [==============================] - 0s 9ms/step - loss: 0.3469 - accuracy: 0.8827 - val_loss: 0.4585 - val_accuracy: 0.8000\n",
      "Epoch 87/100\n",
      "6/6 [==============================] - 0s 8ms/step - loss: 0.3598 - accuracy: 0.8603 - val_loss: 0.4587 - val_accuracy: 0.7833\n",
      "Epoch 88/100\n",
      "6/6 [==============================] - 0s 8ms/step - loss: 0.3222 - accuracy: 0.8715 - val_loss: 0.4600 - val_accuracy: 0.8000\n",
      "Epoch 89/100\n",
      "6/6 [==============================] - 0s 9ms/step - loss: 0.3516 - accuracy: 0.8659 - val_loss: 0.4593 - val_accuracy: 0.7833\n",
      "Epoch 90/100\n",
      "6/6 [==============================] - 0s 9ms/step - loss: 0.3345 - accuracy: 0.8771 - val_loss: 0.4592 - val_accuracy: 0.7833\n",
      "Epoch 91/100\n",
      "6/6 [==============================] - 0s 10ms/step - loss: 0.3499 - accuracy: 0.8827 - val_loss: 0.4592 - val_accuracy: 0.7833\n",
      "Epoch 92/100\n",
      "6/6 [==============================] - 0s 8ms/step - loss: 0.3301 - accuracy: 0.8659 - val_loss: 0.4608 - val_accuracy: 0.7833\n",
      "Epoch 93/100\n",
      "6/6 [==============================] - 0s 8ms/step - loss: 0.3582 - accuracy: 0.8603 - val_loss: 0.4619 - val_accuracy: 0.7833\n",
      "Epoch 94/100\n",
      "6/6 [==============================] - 0s 9ms/step - loss: 0.3283 - accuracy: 0.8827 - val_loss: 0.4635 - val_accuracy: 0.7833\n",
      "Epoch 95/100\n",
      "6/6 [==============================] - 0s 9ms/step - loss: 0.3487 - accuracy: 0.8827 - val_loss: 0.4635 - val_accuracy: 0.7833\n",
      "Epoch 96/100\n",
      "6/6 [==============================] - 0s 9ms/step - loss: 0.3617 - accuracy: 0.8659 - val_loss: 0.4603 - val_accuracy: 0.7833\n",
      "Epoch 97/100\n",
      "6/6 [==============================] - 0s 9ms/step - loss: 0.3563 - accuracy: 0.8771 - val_loss: 0.4614 - val_accuracy: 0.7833\n",
      "Epoch 98/100\n",
      "6/6 [==============================] - 0s 9ms/step - loss: 0.3168 - accuracy: 0.8883 - val_loss: 0.4618 - val_accuracy: 0.7833\n",
      "Epoch 99/100\n",
      "6/6 [==============================] - 0s 9ms/step - loss: 0.3401 - accuracy: 0.8994 - val_loss: 0.4643 - val_accuracy: 0.7833\n",
      "Epoch 100/100\n",
      "6/6 [==============================] - 0s 9ms/step - loss: 0.3514 - accuracy: 0.8603 - val_loss: 0.4664 - val_accuracy: 0.7833\n"
     ]
    }
   ],
   "source": [
    "# train the ANN\n",
    "history = ann.fit(X_train, y_train, batch_size=32, epochs=100, validation_split=0.25)"
   ]
  },
  {
   "cell_type": "code",
   "execution_count": 36,
   "metadata": {},
   "outputs": [
    {
     "name": "stdout",
     "output_type": "stream",
     "text": [
      "\n",
      "validation_accuracy is: 77.75%\n"
     ]
    }
   ],
   "source": [
    "val_accuracy = np.mean(history.history['val_accuracy'])\n",
    "print(\"\\n%s: %.2f%%\" % ('validation_accuracy is', val_accuracy*100))"
   ]
  },
  {
   "cell_type": "code",
   "execution_count": 37,
   "metadata": {},
   "outputs": [
    {
     "name": "stdout",
     "output_type": "stream",
     "text": [
      "2/2 [==============================] - 0s 3ms/step\n"
     ]
    }
   ],
   "source": [
    "# predictions\n",
    "ann_pred = ann.predict(X_test)\n",
    "ann_pred = np.where(ann_pred>threshold, 1, 0)"
   ]
  },
  {
   "cell_type": "markdown",
   "metadata": {},
   "source": [
    "### Performance"
   ]
  },
  {
   "cell_type": "code",
   "execution_count": 39,
   "metadata": {},
   "outputs": [
    {
     "data": {
      "image/png": "[encoded data removed]",
      "text/plain": [
       "<Figure size 600x500 with 2 Axes>"
      ]
     },
     "metadata": {},
     "output_type": "display_data"
    },
    {
     "name": "stdout",
     "output_type": "stream",
     "text": [
      "              precision    recall  f1-score   support\n",
      "\n",
      "           0       0.92      0.82      0.87        40\n",
      "           1       0.71      0.85      0.77        20\n",
      "\n",
      "    accuracy                           0.83        60\n",
      "   macro avg       0.81      0.84      0.82        60\n",
      "weighted avg       0.85      0.83      0.84        60\n",
      "\n"
     ]
    }
   ],
   "source": [
    "# Getting the confusion matrix\n",
    "plt.subplots(figsize=(6,5))\n",
    "cf_matrix = confusion_matrix(y_test, ann_pred)\n",
    "sns.heatmap(cf_matrix, annot = True, annot_kws = {'size':25}, square=True)\n",
    "plt.show()\n",
    "\n",
    "print(classification_report(y_test,ann_pred))"
   ]
  },
  {
   "cell_type": "markdown",
   "metadata": {},
   "source": [
    "The artificial neural network (ANN) predicted 36 survivals and 24 deaths.\n",
    "\n",
    "There were 10 incorrect classifications (3 false survivals, 7 false-deaths)"
   ]
  },
  {
   "cell_type": "markdown",
   "metadata": {},
   "source": [
    "## Baseline"
   ]
  },
  {
   "cell_type": "markdown",
   "metadata": {},
   "source": [
    "### Logistic Regression"
   ]
  },
  {
   "cell_type": "code",
   "execution_count": 41,
   "metadata": {},
   "outputs": [
    {
     "data": {
      "image/png": "[encoded data removed]",
      "text/plain": [
       "<Figure size 600x500 with 2 Axes>"
      ]
     },
     "metadata": {},
     "output_type": "display_data"
    },
    {
     "name": "stdout",
     "output_type": "stream",
     "text": [
      "              precision    recall  f1-score   support\n",
      "\n",
      "           0       0.88      0.90      0.89        40\n",
      "           1       0.79      0.75      0.77        20\n",
      "\n",
      "    accuracy                           0.85        60\n",
      "   macro avg       0.83      0.82      0.83        60\n",
      "weighted avg       0.85      0.85      0.85        60\n",
      "\n"
     ]
    }
   ],
   "source": [
    "LR = LogisticRegression()\n",
    "LR.fit(X_train, y_train)\n",
    "LR_pred = LR.predict(X_test)\n",
    "\n",
    "plt.subplots(figsize=(6,5))\n",
    "cf_matrix = confusion_matrix(y_test, LR_pred)\n",
    "sns.heatmap(cf_matrix, annot = True, annot_kws = {'size':25}, square=True)\n",
    "plt.title(\"Logistic Regression Confusion Matrix\")\n",
    "plt.show()\n",
    "\n",
    "print(classification_report(y_test,LR_pred))"
   ]
  },
  {
   "cell_type": "markdown",
   "metadata": {},
   "source": [
    "### kNN"
   ]
  },
  {
   "cell_type": "code",
   "execution_count": 42,
   "metadata": {},
   "outputs": [
    {
     "data": {
      "image/png": "[encoded data removed]",
      "text/plain": [
       "<Figure size 600x500 with 2 Axes>"
      ]
     },
     "metadata": {},
     "output_type": "display_data"
    },
    {
     "name": "stdout",
     "output_type": "stream",
     "text": [
      "              precision    recall  f1-score   support\n",
      "\n",
      "           0       0.70      0.88      0.78        40\n",
      "           1       0.50      0.25      0.33        20\n",
      "\n",
      "    accuracy                           0.67        60\n",
      "   macro avg       0.60      0.56      0.56        60\n",
      "weighted avg       0.63      0.67      0.63        60\n",
      "\n"
     ]
    }
   ],
   "source": [
    "kNN = KNeighborsClassifier()\n",
    "kNN.fit(X_train, y_train)\n",
    "kNN_pred = kNN.predict(X_test)\n",
    "\n",
    "plt.subplots(figsize=(6,5))\n",
    "cf_matrix = confusion_matrix(y_test, kNN_pred)\n",
    "sns.heatmap(cf_matrix, annot = True, annot_kws = {'size':25}, square=True)\n",
    "plt.title(\"kNN Confusion Matrix\")\n",
    "plt.show()\n",
    "\n",
    "print(classification_report(y_test,kNN_pred))"
   ]
  },
  {
   "cell_type": "markdown",
   "metadata": {},
   "source": [
    "### Naive-Baines"
   ]
  },
  {
   "cell_type": "code",
   "execution_count": 14,
   "metadata": {},
   "outputs": [
    {
     "data": {
      "image/png": "[encoded data removed]",
      "text/plain": [
       "<Figure size 600x500 with 2 Axes>"
      ]
     },
     "metadata": {},
     "output_type": "display_data"
    },
    {
     "name": "stdout",
     "output_type": "stream",
     "text": [
      "              precision    recall  f1-score   support\n",
      "\n",
      "           0       0.84      0.95      0.89        40\n",
      "           1       0.87      0.65      0.74        20\n",
      "\n",
      "    accuracy                           0.85        60\n",
      "   macro avg       0.86      0.80      0.82        60\n",
      "weighted avg       0.85      0.85      0.84        60\n",
      "\n"
     ]
    }
   ],
   "source": [
    "NB = GaussianNB()\n",
    "NB.fit(X_train, y_train)\n",
    "NB_pred = NB.predict(X_test)\n",
    "\n",
    "plt.subplots(figsize=(6,5))\n",
    "cf_matrix = confusion_matrix(y_test, NB_pred)\n",
    "sns.heatmap(cf_matrix, annot = True, annot_kws = {'size':25}, square=True)\n",
    "plt.title(\"Naive-Baines Confusion Matrix\")\n",
    "plt.show()\n",
    "\n",
    "print(classification_report(y_test,NB_pred))"
   ]
  },
  {
   "cell_type": "markdown",
   "metadata": {},
   "source": [
    "### Support Vector Machine (SVM)"
   ]
  },
  {
   "cell_type": "code",
   "execution_count": 44,
   "metadata": {},
   "outputs": [
    {
     "data": {
      "image/png": "[encoded data removed]",
      "text/plain": [
       "<Figure size 600x500 with 2 Axes>"
      ]
     },
     "metadata": {},
     "output_type": "display_data"
    },
    {
     "name": "stdout",
     "output_type": "stream",
     "text": [
      "              precision    recall  f1-score   support\n",
      "\n",
      "           0       0.76      0.88      0.81        40\n",
      "           1       0.64      0.45      0.53        20\n",
      "\n",
      "    accuracy                           0.73        60\n",
      "   macro avg       0.70      0.66      0.67        60\n",
      "weighted avg       0.72      0.73      0.72        60\n",
      "\n"
     ]
    }
   ],
   "source": [
    "SVM = svm.SVC()\n",
    "SVM.fit(X_train, y_train)\n",
    "SVM_pred = SVM.predict(X_test)\n",
    "\n",
    "plt.subplots(figsize=(6,5))\n",
    "cf_matrix = confusion_matrix(y_test, SVM_pred)\n",
    "sns.heatmap(cf_matrix, annot = True, annot_kws = {'size':25}, square=True)\n",
    "plt.title(\"Naive-Baines Confusion Matrix\")\n",
    "plt.show()\n",
    "\n",
    "print(classification_report(y_test,SVM_pred))"
   ]
  }
 ],
 "metadata": {
  "kernelspec": {
   "display_name": "Python 3",
   "language": "python",
   "name": "python3"
  },
  "language_info": {
   "codemirror_mode": {
    "name": "ipython",
    "version": 3
   },
   "file_extension": ".py",
   "mimetype": "text/x-python",
   "name": "python",
   "nbconvert_exporter": "python",
   "pygments_lexer": "ipython3",
   "version": "3.11.6"
  },
  "orig_nbformat": 4
 },
 "nbformat": 4,
 "nbformat_minor": 2
}
